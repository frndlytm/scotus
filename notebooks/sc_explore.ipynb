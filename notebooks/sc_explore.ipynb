{
 "cells": [
  {
   "cell_type": "markdown",
   "id": "d1e97f58",
   "metadata": {},
   "source": [
    "# Supreme Court Data Exploration"
   ]
  },
  {
   "cell_type": "code",
   "execution_count": 3,
   "id": "454f2068",
   "metadata": {},
   "outputs": [],
   "source": [
    "from convokit import Corpus, download"
   ]
  },
  {
   "cell_type": "markdown",
   "id": "30763cb0",
   "metadata": {},
   "source": [
    "Download our corpus from convokit. This takes a minute -- downloading a ~1.2G zip and upacking it."
   ]
  },
  {
   "cell_type": "code",
   "execution_count": 4,
   "id": "07f5462f",
   "metadata": {},
   "outputs": [
    {
     "name": "stdout",
     "output_type": "stream",
     "text": [
      "Dataset already exists at /Users/vaughnfranz/.convokit/downloads/supreme-corpus\n"
     ]
    }
   ],
   "source": [
    "corpus = Corpus(filename=download(\"supreme-corpus\"))\n",
    "# if you already downloaded this just substitute the file path for download('supreme-corpus') "
   ]
  },
  {
   "cell_type": "code",
   "execution_count": 5,
   "id": "ed5dd47f",
   "metadata": {},
   "outputs": [],
   "source": [
    "import pandas as pd"
   ]
  },
  {
   "cell_type": "markdown",
   "id": "ac507d48",
   "metadata": {},
   "source": [
    "## Conversations Dataframe\n",
    "Get all of the converstaions in the corpus formatted as a dataframe. "
   ]
  },
  {
   "cell_type": "code",
   "execution_count": 6,
   "id": "3887922e",
   "metadata": {},
   "outputs": [],
   "source": [
    "conv_df = corpus.get_conversations_dataframe()"
   ]
  },
  {
   "cell_type": "markdown",
   "id": "b3765d7c",
   "metadata": {},
   "source": [
    "We can see here a lot of the data we need already present for us, the side of each advocate, the side which won the case and the side which each justice voted for"
   ]
  },
  {
   "cell_type": "code",
   "execution_count": 7,
   "id": "e5d09415",
   "metadata": {},
   "outputs": [
    {
     "data": {
      "text/html": [
       "<div>\n",
       "<style scoped>\n",
       "    .dataframe tbody tr th:only-of-type {\n",
       "        vertical-align: middle;\n",
       "    }\n",
       "\n",
       "    .dataframe tbody tr th {\n",
       "        vertical-align: top;\n",
       "    }\n",
       "\n",
       "    .dataframe thead th {\n",
       "        text-align: right;\n",
       "    }\n",
       "</style>\n",
       "<table border=\"1\" class=\"dataframe\">\n",
       "  <thead>\n",
       "    <tr style=\"text-align: right;\">\n",
       "      <th></th>\n",
       "      <th>vectors</th>\n",
       "      <th>meta.case_id</th>\n",
       "      <th>meta.advocates</th>\n",
       "      <th>meta.win_side</th>\n",
       "      <th>meta.votes_side</th>\n",
       "    </tr>\n",
       "    <tr>\n",
       "      <th>id</th>\n",
       "      <th></th>\n",
       "      <th></th>\n",
       "      <th></th>\n",
       "      <th></th>\n",
       "      <th></th>\n",
       "    </tr>\n",
       "  </thead>\n",
       "  <tbody>\n",
       "    <tr>\n",
       "      <th>13127</th>\n",
       "      <td>[]</td>\n",
       "      <td>1955_71</td>\n",
       "      <td>{'harry_f_murphy': {'side': 1, 'role': 'inferr...</td>\n",
       "      <td>0</td>\n",
       "      <td>{'j__john_m_harlan2': 0, 'j__hugo_l_black': 0,...</td>\n",
       "    </tr>\n",
       "    <tr>\n",
       "      <th>12997</th>\n",
       "      <td>[]</td>\n",
       "      <td>1955_410</td>\n",
       "      <td>{'howard_c_westwood': {'side': 1, 'role': 'inf...</td>\n",
       "      <td>1</td>\n",
       "      <td>{'j__john_m_harlan2': 1, 'j__hugo_l_black': 1,...</td>\n",
       "    </tr>\n",
       "    <tr>\n",
       "      <th>13024</th>\n",
       "      <td>[]</td>\n",
       "      <td>1955_410</td>\n",
       "      <td>{'howard_c_westwood': {'side': 1, 'role': 'inf...</td>\n",
       "      <td>1</td>\n",
       "      <td>{'j__john_m_harlan2': 1, 'j__hugo_l_black': 1,...</td>\n",
       "    </tr>\n",
       "    <tr>\n",
       "      <th>13015</th>\n",
       "      <td>[]</td>\n",
       "      <td>1955_351</td>\n",
       "      <td>{'harry_d_graham': {'side': 3, 'role': 'inferr...</td>\n",
       "      <td>1</td>\n",
       "      <td>{'j__john_m_harlan2': 1, 'j__hugo_l_black': 1,...</td>\n",
       "    </tr>\n",
       "    <tr>\n",
       "      <th>13016</th>\n",
       "      <td>[]</td>\n",
       "      <td>1955_38</td>\n",
       "      <td>{'robert_n_gorman': {'side': 3, 'role': 'infer...</td>\n",
       "      <td>0</td>\n",
       "      <td>{'j__john_m_harlan2': 0, 'j__hugo_l_black': 0,...</td>\n",
       "    </tr>\n",
       "  </tbody>\n",
       "</table>\n",
       "</div>"
      ],
      "text/plain": [
       "      vectors meta.case_id                                     meta.advocates  \\\n",
       "id                                                                              \n",
       "13127      []      1955_71  {'harry_f_murphy': {'side': 1, 'role': 'inferr...   \n",
       "12997      []     1955_410  {'howard_c_westwood': {'side': 1, 'role': 'inf...   \n",
       "13024      []     1955_410  {'howard_c_westwood': {'side': 1, 'role': 'inf...   \n",
       "13015      []     1955_351  {'harry_d_graham': {'side': 3, 'role': 'inferr...   \n",
       "13016      []      1955_38  {'robert_n_gorman': {'side': 3, 'role': 'infer...   \n",
       "\n",
       "      meta.win_side                                    meta.votes_side  \n",
       "id                                                                      \n",
       "13127             0  {'j__john_m_harlan2': 0, 'j__hugo_l_black': 0,...  \n",
       "12997             1  {'j__john_m_harlan2': 1, 'j__hugo_l_black': 1,...  \n",
       "13024             1  {'j__john_m_harlan2': 1, 'j__hugo_l_black': 1,...  \n",
       "13015             1  {'j__john_m_harlan2': 1, 'j__hugo_l_black': 1,...  \n",
       "13016             0  {'j__john_m_harlan2': 0, 'j__hugo_l_black': 0,...  "
      ]
     },
     "execution_count": 7,
     "metadata": {},
     "output_type": "execute_result"
    }
   ],
   "source": [
    "conv_df.head()"
   ]
  },
  {
   "cell_type": "code",
   "execution_count": 8,
   "id": "9648d02b",
   "metadata": {},
   "outputs": [
    {
     "data": {
      "text/plain": [
       "(7817, 5)"
      ]
     },
     "execution_count": 8,
     "metadata": {},
     "output_type": "execute_result"
    }
   ],
   "source": [
    "conv_df.shape"
   ]
  },
  {
   "cell_type": "code",
   "execution_count": 18,
   "id": "3f3cdafd",
   "metadata": {},
   "outputs": [
    {
     "data": {
      "text/plain": [
       "vectors             0\n",
       "meta.case_id        0\n",
       "meta.advocates      0\n",
       "meta.win_side      13\n",
       "meta.votes_side    13\n",
       "dtype: int64"
      ]
     },
     "execution_count": 18,
     "metadata": {},
     "output_type": "execute_result"
    }
   ],
   "source": [
    "conv_df.isna().sum()"
   ]
  },
  {
   "cell_type": "code",
   "execution_count": 9,
   "id": "5c82429f",
   "metadata": {},
   "outputs": [
    {
     "data": {
      "text/plain": [
       "{'harry_f_murphy': {'side': 1, 'role': 'inferred'},\n",
       " 'john_v_lindsay': {'side': 0, 'role': 'inferred'}}"
      ]
     },
     "execution_count": 9,
     "metadata": {},
     "output_type": "execute_result"
    }
   ],
   "source": [
    "conv_df['meta.advocates'][0]"
   ]
  },
  {
   "cell_type": "code",
   "execution_count": 12,
   "id": "98209222",
   "metadata": {},
   "outputs": [
    {
     "data": {
      "text/plain": [
       "{'j__john_m_harlan2': 0,\n",
       " 'j__hugo_l_black': 0,\n",
       " 'j__william_o_douglas': 0,\n",
       " 'j__earl_warren': 0,\n",
       " 'j__tom_c_clark': 0,\n",
       " 'j__felix_frankfurter': 0,\n",
       " 'j__harold_burton': 0,\n",
       " 'j__stanley_reed': 0,\n",
       " 'j__sherman_minton': 0}"
      ]
     },
     "execution_count": 12,
     "metadata": {},
     "output_type": "execute_result"
    }
   ],
   "source": [
    "conv_df['meta.votes_side'][0]"
   ]
  },
  {
   "cell_type": "markdown",
   "id": "1824507f",
   "metadata": {},
   "source": [
    "## Utterances Dataframe\n",
    "We can also get a dataframe of all of the utterances. This one actually contains the text that we can train on. Building this takes a while -- 1.7 million utterances."
   ]
  },
  {
   "cell_type": "code",
   "execution_count": 13,
   "id": "35b21ec9",
   "metadata": {},
   "outputs": [],
   "source": [
    "utterances_df = corpus.get_utterances_dataframe()"
   ]
  },
  {
   "cell_type": "code",
   "execution_count": 6,
   "id": "a17549c5",
   "metadata": {
    "scrolled": true
   },
   "outputs": [
    {
     "data": {
      "text/html": [
       "<div>\n",
       "<style scoped>\n",
       "    .dataframe tbody tr th:only-of-type {\n",
       "        vertical-align: middle;\n",
       "    }\n",
       "\n",
       "    .dataframe tbody tr th {\n",
       "        vertical-align: top;\n",
       "    }\n",
       "\n",
       "    .dataframe thead th {\n",
       "        text-align: right;\n",
       "    }\n",
       "</style>\n",
       "<table border=\"1\" class=\"dataframe\">\n",
       "  <thead>\n",
       "    <tr style=\"text-align: right;\">\n",
       "      <th></th>\n",
       "      <th>timestamp</th>\n",
       "      <th>text</th>\n",
       "      <th>speaker</th>\n",
       "      <th>reply_to</th>\n",
       "      <th>conversation_id</th>\n",
       "      <th>meta.case_id</th>\n",
       "      <th>meta.start_times</th>\n",
       "      <th>meta.stop_times</th>\n",
       "      <th>meta.speaker_type</th>\n",
       "      <th>meta.side</th>\n",
       "      <th>meta.timestamp</th>\n",
       "      <th>vectors</th>\n",
       "    </tr>\n",
       "    <tr>\n",
       "      <th>id</th>\n",
       "      <th></th>\n",
       "      <th></th>\n",
       "      <th></th>\n",
       "      <th></th>\n",
       "      <th></th>\n",
       "      <th></th>\n",
       "      <th></th>\n",
       "      <th></th>\n",
       "      <th></th>\n",
       "      <th></th>\n",
       "      <th></th>\n",
       "      <th></th>\n",
       "    </tr>\n",
       "  </thead>\n",
       "  <tbody>\n",
       "    <tr>\n",
       "      <th>13127__0_000</th>\n",
       "      <td>None</td>\n",
       "      <td>Number 71, Lonnie Affronti versus United State...</td>\n",
       "      <td>j__earl_warren</td>\n",
       "      <td>None</td>\n",
       "      <td>13127</td>\n",
       "      <td>1955_71</td>\n",
       "      <td>[0.0, 7.624]</td>\n",
       "      <td>[7.624, 9.218]</td>\n",
       "      <td>J</td>\n",
       "      <td>None</td>\n",
       "      <td>0.0</td>\n",
       "      <td>[]</td>\n",
       "    </tr>\n",
       "    <tr>\n",
       "      <th>13127__0_001</th>\n",
       "      <td>None</td>\n",
       "      <td>May it please the Court.\\nWe are here by writ ...</td>\n",
       "      <td>harry_f_murphy</td>\n",
       "      <td>13127__0_000</td>\n",
       "      <td>13127</td>\n",
       "      <td>1955_71</td>\n",
       "      <td>[9.218, 11.538, 15.653, 22.722, 28.849, 33.575]</td>\n",
       "      <td>[11.538, 15.653, 22.722, 28.849, 33.575, 48.138]</td>\n",
       "      <td>A</td>\n",
       "      <td>1</td>\n",
       "      <td>9.218</td>\n",
       "      <td>[]</td>\n",
       "    </tr>\n",
       "    <tr>\n",
       "      <th>13127__0_002</th>\n",
       "      <td>None</td>\n",
       "      <td>Consecutive sentences.</td>\n",
       "      <td>j__william_o_douglas</td>\n",
       "      <td>13127__0_001</td>\n",
       "      <td>13127</td>\n",
       "      <td>1955_71</td>\n",
       "      <td>[48.138]</td>\n",
       "      <td>[49.315]</td>\n",
       "      <td>J</td>\n",
       "      <td>None</td>\n",
       "      <td>48.138</td>\n",
       "      <td>[]</td>\n",
       "    </tr>\n",
       "    <tr>\n",
       "      <th>13127__0_003</th>\n",
       "      <td>None</td>\n",
       "      <td>Consecutive sentences.\\nIn this case, the defe...</td>\n",
       "      <td>harry_f_murphy</td>\n",
       "      <td>13127__0_002</td>\n",
       "      <td>13127</td>\n",
       "      <td>1955_71</td>\n",
       "      <td>[49.315, 51.844, 60.81, 67.083, 72.584, 89.839...</td>\n",
       "      <td>[51.844, 60.81, 67.083, 72.584, 89.839, 95.873...</td>\n",
       "      <td>A</td>\n",
       "      <td>1</td>\n",
       "      <td>49.315</td>\n",
       "      <td>[]</td>\n",
       "    </tr>\n",
       "    <tr>\n",
       "      <th>13127__0_004</th>\n",
       "      <td>None</td>\n",
       "      <td>Was the aggregate prison sentence was 20 or 25...</td>\n",
       "      <td>&lt;INAUDIBLE&gt;</td>\n",
       "      <td>13127__0_003</td>\n",
       "      <td>13127</td>\n",
       "      <td>1955_71</td>\n",
       "      <td>[174.058]</td>\n",
       "      <td>[176.766]</td>\n",
       "      <td>None</td>\n",
       "      <td>None</td>\n",
       "      <td>174.058</td>\n",
       "      <td>[]</td>\n",
       "    </tr>\n",
       "  </tbody>\n",
       "</table>\n",
       "</div>"
      ],
      "text/plain": [
       "             timestamp                                               text  \\\n",
       "id                                                                          \n",
       "13127__0_000      None  Number 71, Lonnie Affronti versus United State...   \n",
       "13127__0_001      None  May it please the Court.\\nWe are here by writ ...   \n",
       "13127__0_002      None                             Consecutive sentences.   \n",
       "13127__0_003      None  Consecutive sentences.\\nIn this case, the defe...   \n",
       "13127__0_004      None  Was the aggregate prison sentence was 20 or 25...   \n",
       "\n",
       "                           speaker      reply_to conversation_id meta.case_id  \\\n",
       "id                                                                              \n",
       "13127__0_000        j__earl_warren          None           13127      1955_71   \n",
       "13127__0_001        harry_f_murphy  13127__0_000           13127      1955_71   \n",
       "13127__0_002  j__william_o_douglas  13127__0_001           13127      1955_71   \n",
       "13127__0_003        harry_f_murphy  13127__0_002           13127      1955_71   \n",
       "13127__0_004           <INAUDIBLE>  13127__0_003           13127      1955_71   \n",
       "\n",
       "                                               meta.start_times  \\\n",
       "id                                                                \n",
       "13127__0_000                                       [0.0, 7.624]   \n",
       "13127__0_001    [9.218, 11.538, 15.653, 22.722, 28.849, 33.575]   \n",
       "13127__0_002                                           [48.138]   \n",
       "13127__0_003  [49.315, 51.844, 60.81, 67.083, 72.584, 89.839...   \n",
       "13127__0_004                                          [174.058]   \n",
       "\n",
       "                                                meta.stop_times  \\\n",
       "id                                                                \n",
       "13127__0_000                                     [7.624, 9.218]   \n",
       "13127__0_001   [11.538, 15.653, 22.722, 28.849, 33.575, 48.138]   \n",
       "13127__0_002                                           [49.315]   \n",
       "13127__0_003  [51.844, 60.81, 67.083, 72.584, 89.839, 95.873...   \n",
       "13127__0_004                                          [176.766]   \n",
       "\n",
       "             meta.speaker_type meta.side meta.timestamp vectors  \n",
       "id                                                               \n",
       "13127__0_000                 J      None            0.0      []  \n",
       "13127__0_001                 A         1          9.218      []  \n",
       "13127__0_002                 J      None         48.138      []  \n",
       "13127__0_003                 A         1         49.315      []  \n",
       "13127__0_004              None      None        174.058      []  "
      ]
     },
     "execution_count": 6,
     "metadata": {},
     "output_type": "execute_result"
    }
   ],
   "source": [
    "utterances_df.head()"
   ]
  },
  {
   "cell_type": "markdown",
   "id": "d4713abd",
   "metadata": {},
   "source": [
    "Noticing the case_id column here, very easy for us to slice the dataframe by case."
   ]
  },
  {
   "cell_type": "code",
   "execution_count": 20,
   "id": "945f47d3",
   "metadata": {},
   "outputs": [
    {
     "data": {
      "text/plain": [
       "(1700789, 12)"
      ]
     },
     "execution_count": 20,
     "metadata": {},
     "output_type": "execute_result"
    }
   ],
   "source": [
    "utterances_df.shape"
   ]
  },
  {
   "cell_type": "code",
   "execution_count": 19,
   "id": "286fb457",
   "metadata": {
    "scrolled": true
   },
   "outputs": [
    {
     "data": {
      "text/plain": [
       "timestamp            1700789\n",
       "text                       0\n",
       "speaker                    0\n",
       "reply_to                7817\n",
       "conversation_id            0\n",
       "meta.case_id               0\n",
       "meta.start_times           0\n",
       "meta.stop_times            0\n",
       "meta.speaker_type      88103\n",
       "meta.side             875520\n",
       "meta.timestamp             0\n",
       "vectors                    0\n",
       "dtype: int64"
      ]
     },
     "execution_count": 19,
     "metadata": {},
     "output_type": "execute_result"
    }
   ],
   "source": [
    "utterances_df.isna().sum()"
   ]
  },
  {
   "cell_type": "code",
   "execution_count": 21,
   "id": "50c40a3d",
   "metadata": {},
   "outputs": [
    {
     "data": {
      "text/plain": [
       "(0, 12)"
      ]
     },
     "execution_count": 21,
     "metadata": {},
     "output_type": "execute_result"
    }
   ],
   "source": [
    "utterances_df[utterances_df[\"text\"] == \"\"].shape"
   ]
  },
  {
   "cell_type": "code",
   "execution_count": 8,
   "id": "1dd7742b",
   "metadata": {
    "scrolled": true
   },
   "outputs": [
    {
     "data": {
      "text/plain": [
       "<INAUDIBLE>             88102\n",
       "j__byron_r_white        79536\n",
       "j__antonin_scalia       57631\n",
       "j__felix_frankfurter    53061\n",
       "j__john_paul_stevens    50851\n",
       "                        ...  \n",
       "fred_a_granata              1\n",
       "william_c_harvin            1\n",
       "william_g_comb              1\n",
       "iver_e_skjeie               1\n",
       "c_c_fraizer                 1\n",
       "Name: speaker, Length: 8979, dtype: int64"
      ]
     },
     "execution_count": 8,
     "metadata": {},
     "output_type": "execute_result"
    }
   ],
   "source": [
    "utterances_df[\"speaker\"].value_counts()"
   ]
  },
  {
   "cell_type": "markdown",
   "id": "b341a37e",
   "metadata": {},
   "source": [
    "There are a lot of INAUDIBLE speakers...I suppose not a huge problem since we probably will not use those labels."
   ]
  },
  {
   "cell_type": "markdown",
   "id": "1780db66",
   "metadata": {},
   "source": [
    "## Cases Data \n",
    "Now looking ast the cases.jsonl file for a minute, this is where all of the information for each case is drawn from. It may not be necessary for us to use this since the votes are already recorded in the conversations dataframe. "
   ]
  },
  {
   "cell_type": "code",
   "execution_count": 22,
   "id": "ead1370b",
   "metadata": {},
   "outputs": [],
   "source": [
    "import json"
   ]
  },
  {
   "cell_type": "code",
   "execution_count": 24,
   "id": "ccf14f39",
   "metadata": {},
   "outputs": [],
   "source": [
    "with open('../data/cases.jsonl', 'r') as f:\n",
    "    json_list = list(f)"
   ]
  },
  {
   "cell_type": "code",
   "execution_count": 25,
   "id": "691b2d24",
   "metadata": {},
   "outputs": [],
   "source": [
    "jsons = []\n",
    "for json_str in json_list:\n",
    "    jsons.append(json.loads(json_str))"
   ]
  },
  {
   "cell_type": "code",
   "execution_count": 26,
   "id": "193a4fc3",
   "metadata": {},
   "outputs": [
    {
     "data": {
      "text/plain": [
       "{'id': '1955_71',\n",
       " 'year': 1955,\n",
       " 'citation': '350 US 79',\n",
       " 'title': 'Affronti v. United States',\n",
       " 'petitioner': 'Affronti',\n",
       " 'respondent': 'United States',\n",
       " 'docket_no': '71',\n",
       " 'court': 'Warren Court',\n",
       " 'decided_date': 'Dec 5, 1955',\n",
       " 'url': 'https://www.oyez.org/cases/1955/71',\n",
       " 'transcripts': [{'name': 'Oral Argument - November 15, 1955',\n",
       "   'url': 'https://apps.oyez.org/player/#/warren3/oral_argument_audio/13127',\n",
       "   'id': 13127,\n",
       "   'case_id': '1955_71'}],\n",
       " 'adv_sides_inferred': True,\n",
       " 'known_respondent_adv': True,\n",
       " 'advocates': {'Harry F. Murphy': {'id': 'harry_f_murphy',\n",
       "   'name': 'Harry F. Murphy',\n",
       "   'side': 1},\n",
       "  'John V. Lindsay': {'id': 'john_v_lindsay',\n",
       "   'name': 'John V. Lindsay',\n",
       "   'side': 0}},\n",
       " 'win_side': 0.0,\n",
       " 'win_side_detail': 2.0,\n",
       " 'scdb_docket_id': '1955-009-01',\n",
       " 'votes': {'j__john_m_harlan2': 2.0,\n",
       "  'j__hugo_l_black': 2.0,\n",
       "  'j__william_o_douglas': 2.0,\n",
       "  'j__earl_warren': 2.0,\n",
       "  'j__tom_c_clark': 2.0,\n",
       "  'j__felix_frankfurter': 2.0,\n",
       "  'j__harold_burton': 2.0,\n",
       "  'j__stanley_reed': 2.0,\n",
       "  'j__sherman_minton': 2.0},\n",
       " 'votes_detail': {'j__john_m_harlan2': 1.0,\n",
       "  'j__hugo_l_black': 1.0,\n",
       "  'j__william_o_douglas': 1.0,\n",
       "  'j__earl_warren': 1.0,\n",
       "  'j__tom_c_clark': 1.0,\n",
       "  'j__felix_frankfurter': 1.0,\n",
       "  'j__harold_burton': 1.0,\n",
       "  'j__stanley_reed': 1.0,\n",
       "  'j__sherman_minton': 1.0},\n",
       " 'is_eq_divided': False,\n",
       " 'votes_side': {'j__john_m_harlan2': 0.0,\n",
       "  'j__hugo_l_black': 0.0,\n",
       "  'j__william_o_douglas': 0.0,\n",
       "  'j__earl_warren': 0.0,\n",
       "  'j__tom_c_clark': 0.0,\n",
       "  'j__felix_frankfurter': 0.0,\n",
       "  'j__harold_burton': 0.0,\n",
       "  'j__stanley_reed': 0.0,\n",
       "  'j__sherman_minton': 0.0}}"
      ]
     },
     "execution_count": 26,
     "metadata": {},
     "output_type": "execute_result"
    }
   ],
   "source": [
    "jsons[0]"
   ]
  },
  {
   "cell_type": "markdown",
   "id": "63c158a6",
   "metadata": {},
   "source": [
    "The voting information is a little confusing, you can read more about it in these places: https://convokit.cornell.edu/documentation/supreme.html\n",
    "http://scdb.wustl.edu/documentation.php?var=majority\n",
    "http://scdb.wustl.edu/documentation.php?var=vote\n",
    "\n",
    "Luckily they already extracted the information we need from that, it's in the conversations dataframe."
   ]
  },
  {
   "cell_type": "markdown",
   "id": "219b1281",
   "metadata": {},
   "source": [
    "## Manual exploration of Justic Rosters\n",
    "This was our idea to check out the longest running set of justices."
   ]
  },
  {
   "cell_type": "code",
   "execution_count": 28,
   "id": "b4a7638d",
   "metadata": {},
   "outputs": [
    {
     "data": {
      "text/plain": [
       "dict_keys(['j__john_m_harlan2', 'j__hugo_l_black', 'j__william_o_douglas', 'j__earl_warren', 'j__tom_c_clark', 'j__felix_frankfurter', 'j__harold_burton', 'j__stanley_reed', 'j__sherman_minton'])"
      ]
     },
     "execution_count": 28,
     "metadata": {},
     "output_type": "execute_result"
    }
   ],
   "source": [
    "jsons[0]['votes'].keys()"
   ]
  },
  {
   "cell_type": "code",
   "execution_count": 30,
   "id": "ffc524d6",
   "metadata": {},
   "outputs": [],
   "source": [
    "justice_combos = dict()\n",
    "justices = dict()\n",
    "for j in jsons:\n",
    "    if j['votes'] != None:\n",
    "        temp_justices = list(j['votes'].keys())\n",
    "        for justice in temp_justices:\n",
    "            justices[justice] = justices.get(justice, 0) + 1\n",
    "        frozen_js = frozenset(temp_justices)\n",
    "        justice_combos[frozen_js] = justice_combos.get(frozen_js, 0) + 1"
   ]
  },
  {
   "cell_type": "code",
   "execution_count": 31,
   "id": "68011f3e",
   "metadata": {},
   "outputs": [
    {
     "data": {
      "text/plain": [
       "frozenset({'j__anthony_m_kennedy',\n",
       "           'j__antonin_scalia',\n",
       "           'j__clarence_thomas',\n",
       "           'j__david_h_souter',\n",
       "           'j__john_paul_stevens',\n",
       "           'j__ruth_bader_ginsburg',\n",
       "           'j__sandra_day_oconnor',\n",
       "           'j__stephen_g_breyer',\n",
       "           'j__william_h_rehnquist'})"
      ]
     },
     "execution_count": 31,
     "metadata": {},
     "output_type": "execute_result"
    }
   ],
   "source": [
    "max(justice_combos, key=justice_combos.get)"
   ]
  },
  {
   "cell_type": "code",
   "execution_count": 32,
   "id": "b0b74e43",
   "metadata": {},
   "outputs": [
    {
     "data": {
      "text/plain": [
       "950"
      ]
     },
     "execution_count": 32,
     "metadata": {},
     "output_type": "execute_result"
    }
   ],
   "source": [
    "justice_combos[max(justice_combos, key=justice_combos.get)]"
   ]
  },
  {
   "cell_type": "code",
   "execution_count": 33,
   "id": "45182941",
   "metadata": {},
   "outputs": [
    {
     "data": {
      "text/plain": [
       "42"
      ]
     },
     "execution_count": 33,
     "metadata": {},
     "output_type": "execute_result"
    }
   ],
   "source": [
    "len(justice_combos.keys())"
   ]
  },
  {
   "cell_type": "markdown",
   "id": "85a0110e",
   "metadata": {},
   "source": [
    "Was also curious about how many justices are represented in the dataset total."
   ]
  },
  {
   "cell_type": "code",
   "execution_count": 34,
   "id": "39f96555",
   "metadata": {},
   "outputs": [
    {
     "data": {
      "text/plain": [
       "34"
      ]
     },
     "execution_count": 34,
     "metadata": {},
     "output_type": "execute_result"
    }
   ],
   "source": [
    "len(justices.keys())"
   ]
  },
  {
   "cell_type": "markdown",
   "id": "88291301",
   "metadata": {},
   "source": [
    "## The convokit Transformer Class\n",
    "This looks to make our lives a lot easier for this project...it includes a ton of built in functionality for preprocessing, feature extraction and analysis. \n",
    "You can see more here: https://convokit.cornell.edu/documentation/transformers.html"
   ]
  },
  {
   "cell_type": "code",
   "execution_count": 39,
   "id": "b6422a88",
   "metadata": {},
   "outputs": [],
   "source": [
    "from convokit import TextCleaner, TextParser, BoWTransformer"
   ]
  },
  {
   "cell_type": "markdown",
   "id": "01ee8fe4",
   "metadata": {},
   "source": [
    "### TextCleaner\n",
    "\"Transformer that cleans the text of utterances in an input Corpus. By default, the text cleaner assumes the text is in English. It fixes unicode errors, transliterates text to the closest ASCII representation, lowercases text, removes line breaks, and replaces URLs, emails, phone numbers, numbers, currency symbols with special tokens.\""
   ]
  },
  {
   "cell_type": "code",
   "execution_count": 36,
   "id": "3958e8f7",
   "metadata": {},
   "outputs": [
    {
     "name": "stdout",
     "output_type": "stream",
     "text": [
      "50000/1700789 utterances processed\n",
      "100000/1700789 utterances processed\n",
      "150000/1700789 utterances processed\n",
      "200000/1700789 utterances processed\n",
      "250000/1700789 utterances processed\n",
      "300000/1700789 utterances processed\n",
      "350000/1700789 utterances processed\n",
      "400000/1700789 utterances processed\n",
      "450000/1700789 utterances processed\n",
      "500000/1700789 utterances processed\n",
      "550000/1700789 utterances processed\n",
      "600000/1700789 utterances processed\n",
      "650000/1700789 utterances processed\n",
      "700000/1700789 utterances processed\n",
      "750000/1700789 utterances processed\n",
      "800000/1700789 utterances processed\n",
      "850000/1700789 utterances processed\n",
      "900000/1700789 utterances processed\n",
      "950000/1700789 utterances processed\n",
      "1000000/1700789 utterances processed\n",
      "1050000/1700789 utterances processed\n",
      "1100000/1700789 utterances processed\n",
      "1150000/1700789 utterances processed\n",
      "1200000/1700789 utterances processed\n",
      "1250000/1700789 utterances processed\n",
      "1300000/1700789 utterances processed\n",
      "1350000/1700789 utterances processed\n",
      "1400000/1700789 utterances processed\n",
      "1450000/1700789 utterances processed\n",
      "1500000/1700789 utterances processed\n",
      "1550000/1700789 utterances processed\n",
      "1600000/1700789 utterances processed\n",
      "1650000/1700789 utterances processed\n",
      "1700000/1700789 utterances processed\n",
      "1700789/1700789 utterances processed\n"
     ]
    },
    {
     "data": {
      "text/plain": [
       "<convokit.model.corpus.Corpus at 0x10d58af10>"
      ]
     },
     "execution_count": 36,
     "metadata": {},
     "output_type": "execute_result"
    }
   ],
   "source": [
    "TextCleaner(verbosity=50000).transform(corpus)"
   ]
  },
  {
   "cell_type": "markdown",
   "id": "3d8b911d",
   "metadata": {},
   "source": [
    "### TextParser\n",
    "\"Transformer that dependency-parses each Utterance in a Corpus. This parsing step is a prerequisite for some of the models included in ConvoKit.\n",
    "\n",
    "By default, will perform the following:\n",
    "\n",
    "tokenize words and sentences\n",
    "POS-tags words\n",
    "dependency-parses sentences\"\n",
    "\n",
    "This may not be necessary for our models but it's cool to know that it's an option."
   ]
  },
  {
   "cell_type": "code",
   "execution_count": null,
   "id": "652b4391",
   "metadata": {},
   "outputs": [],
   "source": [
    "TextParser(verbosity=200000).transform(corpus)"
   ]
  },
  {
   "cell_type": "markdown",
   "id": "8a9ee014",
   "metadata": {},
   "source": [
    "### BoWTransformer\n",
    "Bag-of-Words Transformer for annotating a Corpus’s objects with the bag-of-words vectorization of some textual element of the Corpus components.\n",
    "Out of the box bag of words vectors for all our utterances...pretty nifty. "
   ]
  },
  {
   "cell_type": "code",
   "execution_count": 40,
   "id": "81a32da0",
   "metadata": {},
   "outputs": [
    {
     "name": "stdout",
     "output_type": "stream",
     "text": [
      "Initializing default unigram CountVectorizer...Done.\n"
     ]
    }
   ],
   "source": [
    "bow_transformer = BoWTransformer(obj_type=\"utterance\")"
   ]
  },
  {
   "cell_type": "code",
   "execution_count": 41,
   "id": "897f0826",
   "metadata": {},
   "outputs": [
    {
     "name": "stderr",
     "output_type": "stream",
     "text": [
      "/Users/vaughnfranz/Envs/scotus/lib/python3.9/site-packages/sklearn/utils/deprecation.py:87: FutureWarning: Function get_feature_names is deprecated; get_feature_names is deprecated in 1.0 and will be removed in 1.2. Please use get_feature_names_out instead.\n",
      "  warnings.warn(msg, category=FutureWarning)\n"
     ]
    },
    {
     "data": {
      "text/plain": [
       "<convokit.model.corpus.Corpus at 0x10d58af10>"
      ]
     },
     "execution_count": 41,
     "metadata": {},
     "output_type": "execute_result"
    }
   ],
   "source": [
    "bow_transformer.fit_transform(corpus)"
   ]
  },
  {
   "cell_type": "markdown",
   "id": "ab085da0",
   "metadata": {},
   "source": [
    "Now all of our utterances have a bag of words vector"
   ]
  },
  {
   "cell_type": "code",
   "execution_count": 46,
   "id": "523a4d61",
   "metadata": {},
   "outputs": [
    {
     "data": {
      "text/plain": [
       "['bow_vector']"
      ]
     },
     "execution_count": 46,
     "metadata": {},
     "output_type": "execute_result"
    }
   ],
   "source": [
    "corpus.get_utterance('13127__0_000').vectors"
   ]
  },
  {
   "cell_type": "code",
   "execution_count": null,
   "id": "196ce375",
   "metadata": {},
   "outputs": [],
   "source": []
  }
 ],
 "metadata": {
  "kernelspec": {
   "display_name": "scotus",
   "language": "python",
   "name": "scotus"
  },
  "language_info": {
   "codemirror_mode": {
    "name": "ipython",
    "version": 3
   },
   "file_extension": ".py",
   "mimetype": "text/x-python",
   "name": "python",
   "nbconvert_exporter": "python",
   "pygments_lexer": "ipython3",
   "version": "3.9.10"
  }
 },
 "nbformat": 4,
 "nbformat_minor": 5
}
