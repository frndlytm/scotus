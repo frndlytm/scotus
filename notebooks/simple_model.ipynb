{
 "cells": [
  {
   "cell_type": "code",
   "execution_count": 13,
   "id": "e35e34e9",
   "metadata": {},
   "outputs": [],
   "source": [
    "import numpy as np\n",
    "import pandas as pd\n",
    "from sklearn.linear_model import LogisticRegression\n",
    "from sklearn.model_selection import train_test_split\n",
    "from sklearn.preprocessing import StandardScaler\n",
    "import time"
   ]
  },
  {
   "cell_type": "code",
   "execution_count": 14,
   "id": "6c10704b",
   "metadata": {},
   "outputs": [],
   "source": [
    "with open(\"utterances-1.npy\", \"rb\") as f:\n",
    "    utt_data_1 = np.load(f, allow_pickle=True)"
   ]
  },
  {
   "cell_type": "code",
   "execution_count": 15,
   "id": "fcdda29f",
   "metadata": {
    "scrolled": false
   },
   "outputs": [],
   "source": [
    "sample_1k = utt_data_1[:1000]"
   ]
  },
  {
   "cell_type": "code",
   "execution_count": 17,
   "id": "c2f95b62",
   "metadata": {},
   "outputs": [],
   "source": [
    "X = sample_1k[:, 0]"
   ]
  },
  {
   "cell_type": "code",
   "execution_count": 26,
   "id": "3f493adc",
   "metadata": {},
   "outputs": [],
   "source": [
    "X = np.array([x.flatten() for x in X])\n",
    "X = np.array([x[:10] for x in X])"
   ]
  },
  {
   "cell_type": "code",
   "execution_count": 27,
   "id": "812b6f96",
   "metadata": {},
   "outputs": [],
   "source": [
    "y = sample_1k[:, 4]\n",
    "y = y.astype(int)"
   ]
  },
  {
   "cell_type": "code",
   "execution_count": 28,
   "id": "4868a9dd",
   "metadata": {},
   "outputs": [],
   "source": [
    "X_train, X_test, y_train, y_test = train_test_split(X, y, test_size=0.33, random_state=42)"
   ]
  },
  {
   "cell_type": "code",
   "execution_count": 29,
   "id": "d38f27cf",
   "metadata": {},
   "outputs": [],
   "source": [
    "scaler = StandardScaler()"
   ]
  },
  {
   "cell_type": "code",
   "execution_count": 30,
   "id": "7f767339",
   "metadata": {},
   "outputs": [
    {
     "data": {
      "text/plain": [
       "StandardScaler()"
      ]
     },
     "execution_count": 30,
     "metadata": {},
     "output_type": "execute_result"
    }
   ],
   "source": [
    "scaler.fit(X_train)"
   ]
  },
  {
   "cell_type": "code",
   "execution_count": 31,
   "id": "ca1537b9",
   "metadata": {
    "scrolled": true
   },
   "outputs": [
    {
     "data": {
      "text/plain": [
       "array([[ 0.79489168,  1.25053106,  1.35417812, ..., -1.21923716,\n",
       "        -0.17303911,  1.71991373],\n",
       "       [ 1.49693276,  0.41423167, -0.58631479, ...,  0.86003251,\n",
       "        -1.55256415, -0.60201915],\n",
       "       [ 0.01383969, -1.07054726,  0.30571303, ..., -1.43551968,\n",
       "        -0.56331722,  0.90876877],\n",
       "       ...,\n",
       "       [-1.75846466, -1.10106764, -0.56803922, ..., -0.31237831,\n",
       "         0.25480278,  0.58810001],\n",
       "       [-0.16758656, -1.09886882,  1.96841638, ...,  0.28884156,\n",
       "        -1.11450305, -0.47547243],\n",
       "       [ 0.94963854,  1.69020026,  1.98196651, ..., -2.96001323,\n",
       "        -1.15326988,  0.12400282]])"
      ]
     },
     "execution_count": 31,
     "metadata": {},
     "output_type": "execute_result"
    }
   ],
   "source": [
    "scaler.transform(X_train)"
   ]
  },
  {
   "cell_type": "code",
   "execution_count": 32,
   "id": "b5ab925b",
   "metadata": {},
   "outputs": [
    {
     "data": {
      "text/plain": [
       "(670, 10)"
      ]
     },
     "execution_count": 32,
     "metadata": {},
     "output_type": "execute_result"
    }
   ],
   "source": [
    "X_train.shape"
   ]
  },
  {
   "cell_type": "code",
   "execution_count": 33,
   "id": "ab19b55a",
   "metadata": {},
   "outputs": [
    {
     "data": {
      "text/plain": [
       "(670,)"
      ]
     },
     "execution_count": 33,
     "metadata": {},
     "output_type": "execute_result"
    }
   ],
   "source": [
    "y_train.shape"
   ]
  },
  {
   "cell_type": "code",
   "execution_count": 34,
   "id": "4191ee9c",
   "metadata": {},
   "outputs": [
    {
     "name": "stdout",
     "output_type": "stream",
     "text": [
      "[Parallel(n_jobs=1)]: Using backend SequentialBackend with 1 concurrent workers.\n",
      "RUNNING THE L-BFGS-B CODE\n",
      "\n",
      "           * * *\n",
      "\n",
      "Machine precision = 2.220D-16\n",
      " N =           11     M =           10\n",
      "\n",
      " L =  0.0000D+00  0.0000D+00  0.0000D+00  0.0000D+00  0.0000D+00  0.0000D+00\n",
      "      0.0000D+00  0.0000D+00  0.0000D+00  0.0000D+00  0.0000D+00\n",
      "\n",
      "X0 =  0.0000D+00  0.0000D+00  0.0000D+00  0.0000D+00  0.0000D+00  0.0000D+00\n",
      "      0.0000D+00  0.0000D+00  0.0000D+00  0.0000D+00  0.0000D+00\n",
      "\n",
      " U =  0.0000D+00  0.0000D+00  0.0000D+00  0.0000D+00  0.0000D+00  0.0000D+00\n",
      "      0.0000D+00  0.0000D+00  0.0000D+00  0.0000D+00  0.0000D+00\n",
      "\n",
      "At X0         0 variables are exactly at the bounds\n",
      "\n",
      "At iterate    0    f=  4.64409D+02    |proj g|=  1.09000D+02\n",
      "\n",
      "\n",
      "ITERATION     1\n",
      "\n",
      "---------------- CAUCHY entered-------------------\n",
      " There are            0   breakpoints \n",
      "\n",
      " GCP found in this segment\n",
      "Piece      1 --f1, f2 at start point  -1.9879D+04  1.9879D+04\n",
      "Distance to the stationary point =   1.0000D+00\n",
      "Cauchy X =  \n",
      "      3.8740D+01  3.5626D+01 -7.7260D+00  1.4366D+01  1.2792D+01  2.6081D+01\n",
      "      5.6088D+00  5.2745D+01 -1.5520D+01 -3.2617D+01 -1.0900D+02\n",
      "\n",
      "---------------- exit CAUCHY----------------------\n",
      "\n",
      "          11  variables are free at GCP            1\n",
      " LINE SEARCH           0  times; norm of step =    1.0000000000000000     \n",
      "\n",
      "At iterate    1    f=  4.25475D+02    |proj g|=  4.27916D+01\n",
      "\n",
      " X =  2.7477D-01  2.5268D-01 -5.4797D-02  1.0189D-01  9.0727D-02  1.8498D-01\n",
      "      3.9781D-02  3.7410D-01 -1.1008D-01 -2.3134D-01 -7.7308D-01\n",
      "\n",
      " G = -1.1400D+01  2.2010D+01  5.7475D+00 -6.4731D+00  1.8794D+01 -4.6931D+00\n",
      "     -3.2104D+01  4.2792D+01  1.1408D+01 -3.4079D+01 -3.1215D+01\n",
      "\n",
      "\n",
      "ITERATION     2\n",
      "\n",
      "----------------SUBSM entered-----------------\n",
      "\n",
      "\n",
      "----------------exit SUBSM --------------------\n",
      "\n",
      " LINE SEARCH           0  times; norm of step =   0.28606918224738836     \n",
      "\n",
      "At iterate    2    f=  4.10512D+02    |proj g|=  1.61536D+01\n",
      "\n",
      " X =  3.1296D-01  1.7195D-01 -7.4800D-02  1.2406D-01  2.2908D-02  2.0006D-01\n",
      "      1.5389D-01  2.1819D-01 -1.4977D-01 -1.0777D-01 -6.5489D-01\n",
      "\n",
      " G = -4.8950D+00  1.3204D+01  6.0667D+00 -8.9186D+00  6.3700D+00 -3.6033D+00\n",
      "     -7.5974D+00  1.3368D+01  1.4492D-01 -1.6154D+01  1.7143D+00\n",
      "\n",
      "\n",
      "ITERATION     3\n",
      "\n",
      "----------------SUBSM entered-----------------\n",
      "\n",
      "\n",
      "----------------exit SUBSM --------------------\n",
      "\n",
      " LINE SEARCH           0  times; norm of step =   0.20990545749446854     \n",
      "\n",
      "At iterate    3    f=  4.06685D+02    |proj g|=  1.09757D+01\n",
      "\n",
      " X =  3.5694D-01  8.3769D-02 -1.1926D-01  1.8960D-01 -2.2331D-02  2.3112D-01\n",
      "      2.1423D-01  1.2778D-01 -1.5644D-01  3.9201D-03 -6.8196D-01\n",
      "\n",
      " G = -2.1892D+00  4.0043D+00  4.7244D+00 -8.1515D+00 -1.4893D+00 -5.3029D+00\n",
      "      3.6469D+00 -1.6044D+00 -2.1211D+00 -2.2050D+00  1.0976D+01\n",
      "\n",
      "\n",
      "ITERATION     4\n",
      "\n",
      "----------------SUBSM entered-----------------\n",
      "\n",
      "\n",
      "----------------exit SUBSM --------------------\n",
      "\n",
      " LINE SEARCH           0  times; norm of step =   0.16990788673322285     \n",
      "\n",
      "At iterate    4    f=  4.04926D+02    |proj g|=  5.79512D+00\n",
      "\n",
      " X =  4.0087D-01  2.7358D-02 -1.6924D-01  2.7107D-01 -3.3183D-02  2.8733D-01\n",
      "      2.2890D-01  9.6581D-02 -1.5678D-01  6.2855D-02 -7.6370D-01\n",
      "\n",
      " G = -1.0389D+00 -5.8213D-01  2.6981D+00 -5.2381D+00 -3.3623D+00 -5.4958D+00\n",
      "      4.0000D+00 -2.1257D+00 -9.9298D-01  1.5427D+00  5.7951D+00\n",
      "\n",
      "\n",
      "ITERATION     5\n",
      "\n",
      "----------------SUBSM entered-----------------\n",
      "\n",
      "\n",
      "----------------exit SUBSM --------------------\n",
      "\n",
      " LINE SEARCH           0  times; norm of step =   0.24140147601668802     \n",
      "\n",
      "At iterate    5    f=  4.03721D+02    |proj g|=  3.19437D+00\n",
      "\n",
      " X =  4.5855D-01  7.0788D-03 -2.4233D-01  4.0394D-01  6.3350D-03  4.3273D-01\n",
      "      2.1783D-01  4.8127D-02 -1.6649D-01  9.9696D-02 -8.3381D-01\n",
      "\n",
      " G =  1.8263D+00 -4.3058D-01  3.5695D-01 -4.9580D-01 -2.3060D+00 -3.9216D-01\n",
      "      3.1944D+00 -7.8609D-01 -2.5521D+00 -4.6489D-01  2.4465D+00\n",
      "\n",
      "\n",
      "ITERATION     6\n",
      "\n",
      "----------------SUBSM entered-----------------\n",
      "\n",
      "\n",
      "----------------exit SUBSM --------------------\n",
      "\n",
      " LINE SEARCH           1  times; norm of step =    4.9517577590911285E-002\n",
      "\n",
      "At iterate    6    f=  4.03609D+02    |proj g|=  1.22904D+00\n",
      "\n",
      " X =  4.4700D-01  5.8148D-03 -2.5084D-01  4.1685D-01  2.6557D-02  4.4784D-01\n",
      "      1.9779D-01  3.5239D-02 -1.4654D-01  1.1805D-01 -8.4559D-01\n",
      "\n",
      " G = -2.9234D-01 -7.8346D-01  1.0908D-01 -8.4387D-02 -9.7670D-01 -1.2290D+00\n",
      "      5.5594D-02 -5.1811D-01  5.6563D-01  1.0106D+00 -3.6714D-02\n",
      "\n",
      "\n",
      "ITERATION     7\n",
      "\n",
      "----------------SUBSM entered-----------------\n",
      "\n",
      "\n",
      "----------------exit SUBSM --------------------\n",
      "\n",
      " LINE SEARCH           0  times; norm of step =    2.4791983399227321E-002\n",
      "\n",
      "At iterate    7    f=  4.03585D+02    |proj g|=  3.95296D-01\n",
      "\n",
      " X =  4.5067D-01  9.8277D-03 -2.5640D-01  4.2600D-01  3.7343D-02  4.6589D-01\n",
      "      1.9527D-01  3.2706D-02 -1.4873D-01  1.1639D-01 -8.4840D-01\n",
      "\n",
      " G =  6.4587D-02 -6.0016D-02 -3.8468D-02  2.0554D-01 -3.9530D-01 -3.2540D-01\n",
      "     -1.5285D-01 -5.1245D-02  1.0527D-01  7.6864D-02 -2.5895D-01\n",
      "\n",
      "\n",
      "ITERATION     8\n",
      "\n",
      "----------------SUBSM entered-----------------\n",
      "\n",
      "\n",
      "----------------exit SUBSM --------------------\n",
      "\n",
      " LINE SEARCH           0  times; norm of step =    7.9911620606738891E-003\n",
      "\n",
      "At iterate    8    f=  4.03582D+02    |proj g|=  1.57383D-01\n",
      "\n",
      " X =  4.4941D-01  1.0268D-02 -2.5669D-01  4.2492D-01  4.3109D-02  4.7083D-01\n",
      "      1.9556D-01  3.2956D-02 -1.4874D-01  1.1632D-01 -8.4667D-01\n",
      "\n",
      " G =  6.0700D-02  1.0534D-01 -5.7515D-02  1.4275D-01 -1.4852D-01 -9.4114D-02\n",
      "     -1.5738D-01 -4.2273D-02 -1.5437D-02 -9.0401D-02 -1.0760D-01\n",
      "\n",
      "\n",
      "ITERATION     9\n",
      "\n",
      "----------------SUBSM entered-----------------\n",
      "\n",
      "\n",
      "----------------exit SUBSM --------------------\n",
      "\n",
      " LINE SEARCH           0  times; norm of step =    7.5632050069298750E-003\n",
      "\n",
      "At iterate    9    f=  4.03580D+02    |proj g|=  9.50024D-02\n",
      "\n",
      " X =  4.4777D-01  8.7336D-03 -2.5562D-01  4.2213D-01  4.7754D-02  4.7391D-01\n",
      "      1.9777D-01  3.4840D-02 -1.4803D-01  1.1739D-01 -8.4523D-01\n",
      "\n",
      " G =  1.2133D-02  9.5002D-02 -4.7486D-02  2.7947D-02 -2.9457D-03  4.2598D-03\n",
      "     -7.8913D-02 -4.5432D-02 -4.7204D-02 -8.6319D-02  7.8907D-03\n",
      "\n",
      "\n",
      "ITERATION    10\n",
      "\n",
      "----------------SUBSM entered-----------------\n",
      "\n",
      "\n",
      "----------------exit SUBSM --------------------\n",
      "\n",
      " LINE SEARCH           0  times; norm of step =    4.6994904612855486E-003\n",
      "\n",
      "At iterate   10    f=  4.03580D+02    |proj g|=  2.87693D-02\n",
      "\n",
      " X =  4.4744D-01  7.0516D-03 -2.5405D-01  4.2110D-01  4.9315D-02  4.7516D-01\n",
      "      1.9990D-01  3.6939D-02 -1.4707D-01  1.1871D-01 -8.4508D-01\n",
      "\n",
      " G = -4.8042D-03  2.3095D-02 -1.0071D-02 -3.1790D-04  3.2532D-03  1.7882D-02\n",
      "     -8.0240D-03  8.5393D-03  7.7294D-04 -2.8769D-02 -2.7049D-04\n",
      "\n",
      "\n",
      "ITERATION    11\n",
      "\n",
      "----------------SUBSM entered-----------------\n",
      "\n",
      "\n",
      "----------------exit SUBSM --------------------\n",
      "\n",
      " LINE SEARCH           0  times; norm of step =    8.0271269699381859E-004\n",
      "\n",
      "At iterate   11    f=  4.03580D+02    |proj g|=  9.65869D-03\n",
      "\n",
      " X =  4.4764D-01  6.7035D-03 -2.5371D-01  4.2105D-01  4.9568D-02  4.7489D-01\n",
      "      2.0002D-01  3.7033D-02 -1.4726D-01  1.1911D-01 -8.4516D-01\n",
      "\n",
      " G =  2.0976D-03 -2.4606D-03 -3.0422D-03 -9.6587D-03  3.3218D-03 -2.2186D-03\n",
      "      1.7617D-03 -7.8475D-03 -4.1176D-03  4.4766D-03 -1.7073D-03\n",
      "\n",
      "\n",
      "ITERATION    12\n",
      "\n",
      "----------------SUBSM entered-----------------\n",
      "\n",
      "\n",
      "----------------exit SUBSM --------------------\n",
      "\n",
      " LINE SEARCH           0  times; norm of step =    1.6525603911839943E-004\n",
      "\n",
      "At iterate   12    f=  4.03580D+02    |proj g|=  2.88601D-03\n",
      "\n",
      " X =  4.4762D-01  6.7195D-03 -2.5368D-01  4.2116D-01  4.9501D-02  4.7492D-01\n",
      "      2.0002D-01  3.7095D-02 -1.4720D-01  1.1908D-01 -8.4512D-01\n",
      "\n",
      " G = -1.9078D-04 -2.8860D-03 -2.2122D-03 -2.2118D-03 -5.6716D-04  3.2507D-04\n",
      "     -2.6951D-04 -6.3476D-04  5.1504D-05  2.2797D-04  7.7775D-04\n",
      "\n",
      "\n",
      "ITERATION    13\n",
      "\n",
      "----------------SUBSM entered-----------------\n",
      "\n",
      "\n",
      "----------------exit SUBSM --------------------\n",
      "\n",
      " LINE SEARCH           0  times; norm of step =    6.5148206883276671E-005\n",
      "\n",
      "At iterate   13    f=  4.03580D+02    |proj g|=  9.54133D-04\n",
      "\n",
      " X =  4.4762D-01  6.7491D-03 -2.5364D-01  4.2120D-01  4.9498D-02  4.7491D-01\n",
      "      2.0003D-01  3.7102D-02 -1.4720D-01  1.1909D-01 -8.4512D-01\n",
      "\n",
      " G =  5.1849D-05 -8.6971D-05 -4.4943D-04 -8.2658D-04 -9.5413D-04  4.4582D-04\n",
      "      2.8626D-04 -1.7515D-05  7.9711D-04  3.1912D-04 -3.1035D-04\n",
      "\n",
      "           * * *\n",
      "\n",
      "Tit   = total numb[Parallel(n_jobs=1)]: Done   1 out of   1 | elapsed:    0.1s remaining:    0.0s\n",
      "er of iterations\n",
      "Tnf   = total number of function evaluations\n",
      "Tnint = total number of segments explored during Cauchy searches\n",
      "Skip  = number of BFGS updates skipped\n",
      "Nact  = number of active bounds at final generalized Cauchy point\n",
      "Projg = norm of the final projected gradient\n",
      "F     = final function value\n",
      "\n",
      "           * * *\n",
      "\n",
      "   N    Tit     Tnf  Tnint  Skip  Nact     Projg        F\n",
      "   11     13     15      1     0     0   9.541D-04   4.036D+02\n",
      "\n",
      " X =  4.4762D-01  6.7491D-03 -2.5364D-01  4.2120D-01  4.9498D-02  4.7491D-01\n",
      "      2.0003D-01  3.7102D-02 -1.4720D-01  1.1909D-01 -8.4512D-01\n",
      "  F =   403.57998805639039     \n",
      "\n",
      "CONVERGENCE: REL_REDUCTION_OF_F_<=_FACTR*EPSMCH             \n",
      "[Parallel(n_jobs=1)]: Done   1 out of   1 | elapsed:    0.1s finished\n",
      "Training time: 0.15487003326416016s\n"
     ]
    },
    {
     "name": "stderr",
     "output_type": "stream",
     "text": [
      " This problem is unconstrained.\n"
     ]
    }
   ],
   "source": [
    "start = time.time()\n",
    "log_reg_clf = LogisticRegression(random_state=0, verbose=50).fit(X_train, y_train)\n",
    "end = time.time()\n",
    "print(f\"Training time: {end - start}s\")"
   ]
  },
  {
   "cell_type": "code",
   "execution_count": 35,
   "id": "075d6133",
   "metadata": {},
   "outputs": [],
   "source": [
    "test_scaler = StandardScaler()"
   ]
  },
  {
   "cell_type": "code",
   "execution_count": 38,
   "id": "63442db1",
   "metadata": {},
   "outputs": [
    {
     "data": {
      "text/plain": [
       "array([[-0.98897223, -1.79370032, -0.7653993 , ..., -0.20563965,\n",
       "         0.67243984,  0.1055147 ],\n",
       "       [ 0.01239463,  0.10693871, -0.01558969, ...,  0.45819416,\n",
       "         0.17334574, -0.2725942 ],\n",
       "       [-0.27970073,  0.73263491, -0.60768675, ...,  1.32243734,\n",
       "        -0.19257966, -0.21420998],\n",
       "       ...,\n",
       "       [-0.77191912, -0.53403728, -0.32395553, ...,  0.44655624,\n",
       "        -1.4765155 ,  1.27456028],\n",
       "       [ 0.28023034, -0.7718795 , -0.72856593, ..., -0.03929287,\n",
       "        -0.69686125, -0.18570747],\n",
       "       [ 0.73984208,  0.86081069, -0.80499248, ...,  0.89390556,\n",
       "         0.05452355, -1.2098984 ]])"
      ]
     },
     "execution_count": 38,
     "metadata": {},
     "output_type": "execute_result"
    }
   ],
   "source": [
    "test_scaler.fit(X_test)\n",
    "test_scaler.transform(X_test)"
   ]
  },
  {
   "cell_type": "code",
   "execution_count": 39,
   "id": "e1ef32f4",
   "metadata": {},
   "outputs": [],
   "source": [
    "score = log_reg_clf.score(X_test, y_test)"
   ]
  },
  {
   "cell_type": "code",
   "execution_count": 40,
   "id": "eca2c425",
   "metadata": {},
   "outputs": [
    {
     "name": "stdout",
     "output_type": "stream",
     "text": [
      "0.6303030303030303\n"
     ]
    }
   ],
   "source": [
    "print(score)"
   ]
  }
 ],
 "metadata": {
  "kernelspec": {
   "display_name": "scotus",
   "language": "python",
   "name": "scotus"
  },
  "language_info": {
   "codemirror_mode": {
    "name": "ipython",
    "version": 3
   },
   "file_extension": ".py",
   "mimetype": "text/x-python",
   "name": "python",
   "nbconvert_exporter": "python",
   "pygments_lexer": "ipython3",
   "version": "3.9.12"
  }
 },
 "nbformat": 4,
 "nbformat_minor": 5
}
