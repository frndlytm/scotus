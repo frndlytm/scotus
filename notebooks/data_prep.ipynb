{
 "cells": [
  {
   "cell_type": "code",
   "execution_count": 2,
   "id": "7d42b467",
   "metadata": {},
   "outputs": [],
   "source": [
    "from convokit import Corpus, download, TextCleaner, TextParser, BoWTransformer\n",
    "import pandas as pd\n",
    "import json"
   ]
  },
  {
   "cell_type": "code",
   "execution_count": 3,
   "id": "d63950af",
   "metadata": {},
   "outputs": [],
   "source": [
    "corpus = Corpus(filename=\"/Users/vaughnfranz/.convokit/downloads/supreme-corpus\")"
   ]
  },
  {
   "cell_type": "markdown",
   "id": "76787002",
   "metadata": {},
   "source": [
    "## Data Preprocessing \n",
    "These first steps use the built in functionality of convokit. \n",
    "\n",
    "The TextCleaner will, by default:\n",
    "- fix unicode errors, transliterate text to the closest ASCII representation\n",
    "- lowercase text\n",
    "- remove line breaks\n",
    "- replace URLs, emails, phone numbers, numbers, and currency symbols with special tokens\n",
    "\n",
    "The cleaner will operate by default on the utterances (specifically, utterance.text)."
   ]
  },
  {
   "cell_type": "code",
   "execution_count": 4,
   "id": "51a6b0d1",
   "metadata": {
    "scrolled": true
   },
   "outputs": [
    {
     "name": "stdout",
     "output_type": "stream",
     "text": [
      "250000/1700789 utterances processed\n",
      "500000/1700789 utterances processed\n",
      "750000/1700789 utterances processed\n",
      "1000000/1700789 utterances processed\n",
      "1250000/1700789 utterances processed\n",
      "1500000/1700789 utterances processed\n",
      "1700789/1700789 utterances processed\n"
     ]
    }
   ],
   "source": [
    "corpus = TextCleaner(verbosity=250000).transform(corpus)"
   ]
  },
  {
   "cell_type": "markdown",
   "id": "c5457ad9",
   "metadata": {},
   "source": [
    "The cleaner can also perform custom cleaning. It takes as an input parameter 'text_cleaner' which is a function that produces the cleaned text. Let's use this to perform a couple of additional cleaning steps:\n",
    "- remove stop words\n",
    "- remove punctuation\n",
    "- stem our text"
   ]
  },
  {
   "cell_type": "code",
   "execution_count": 12,
   "id": "505c0ebe",
   "metadata": {},
   "outputs": [
    {
     "name": "stderr",
     "output_type": "stream",
     "text": [
      "[nltk_data] Downloading package stopwords to\n",
      "[nltk_data]     /Users/vaughnfranz/nltk_data...\n",
      "[nltk_data]   Package stopwords is already up-to-date!\n"
     ]
    }
   ],
   "source": [
    "import nltk\n",
    "from nltk.corpus import stopwords\n",
    "from nltk.tokenize import word_tokenize\n",
    "from nltk.stem.porter import PorterStemmer\n",
    "import string \n",
    "nltk.download('stopwords')\n",
    "stop_words = set(stopwords.words('english'))\n",
    "porter = PorterStemmer()\n",
    "\n",
    "def custom_cleaner(text):\n",
    "    toks = word_tokenize(text)\n",
    "    toks = [word for word in toks if not word in string.punctuation]\n",
    "    toks = [word for word in toks if not word in stop_words]\n",
    "    toks = [porter.stem(word) for word in toks]\n",
    "    cleaned = \" \".join(toks)\n",
    "    return cleaned"
   ]
  },
  {
   "cell_type": "code",
   "execution_count": 13,
   "id": "d54b0c40",
   "metadata": {},
   "outputs": [
    {
     "name": "stdout",
     "output_type": "stream",
     "text": [
      "250000/1700789 utterances processed\n",
      "500000/1700789 utterances processed\n",
      "750000/1700789 utterances processed\n",
      "1000000/1700789 utterances processed\n",
      "1250000/1700789 utterances processed\n",
      "1500000/1700789 utterances processed\n",
      "1700789/1700789 utterances processed\n"
     ]
    }
   ],
   "source": [
    "corpus = TextCleaner(verbosity=250000,text_cleaner=custom_cleaner).transform(corpus)"
   ]
  },
  {
   "cell_type": "code",
   "execution_count": 14,
   "id": "4d6a990f",
   "metadata": {},
   "outputs": [],
   "source": [
    "utterances_df = corpus.get_utterances_dataframe()"
   ]
  },
  {
   "cell_type": "code",
   "execution_count": 15,
   "id": "4c8ac59a",
   "metadata": {},
   "outputs": [
    {
     "data": {
      "text/html": [
       "<div>\n",
       "<style scoped>\n",
       "    .dataframe tbody tr th:only-of-type {\n",
       "        vertical-align: middle;\n",
       "    }\n",
       "\n",
       "    .dataframe tbody tr th {\n",
       "        vertical-align: top;\n",
       "    }\n",
       "\n",
       "    .dataframe thead th {\n",
       "        text-align: right;\n",
       "    }\n",
       "</style>\n",
       "<table border=\"1\" class=\"dataframe\">\n",
       "  <thead>\n",
       "    <tr style=\"text-align: right;\">\n",
       "      <th></th>\n",
       "      <th>timestamp</th>\n",
       "      <th>text</th>\n",
       "      <th>speaker</th>\n",
       "      <th>reply_to</th>\n",
       "      <th>conversation_id</th>\n",
       "      <th>meta.case_id</th>\n",
       "      <th>meta.start_times</th>\n",
       "      <th>meta.stop_times</th>\n",
       "      <th>meta.speaker_type</th>\n",
       "      <th>meta.side</th>\n",
       "      <th>meta.timestamp</th>\n",
       "      <th>meta.original</th>\n",
       "      <th>vectors</th>\n",
       "    </tr>\n",
       "    <tr>\n",
       "      <th>id</th>\n",
       "      <th></th>\n",
       "      <th></th>\n",
       "      <th></th>\n",
       "      <th></th>\n",
       "      <th></th>\n",
       "      <th></th>\n",
       "      <th></th>\n",
       "      <th></th>\n",
       "      <th></th>\n",
       "      <th></th>\n",
       "      <th></th>\n",
       "      <th></th>\n",
       "      <th></th>\n",
       "    </tr>\n",
       "  </thead>\n",
       "  <tbody>\n",
       "    <tr>\n",
       "      <th>13127__0_000</th>\n",
       "      <td>None</td>\n",
       "      <td>number number lonni affronti versu unit state ...</td>\n",
       "      <td>j__earl_warren</td>\n",
       "      <td>None</td>\n",
       "      <td>13127</td>\n",
       "      <td>1955_71</td>\n",
       "      <td>[0.0, 7.624]</td>\n",
       "      <td>[7.624, 9.218]</td>\n",
       "      <td>J</td>\n",
       "      <td>None</td>\n",
       "      <td>0.0</td>\n",
       "      <td>number &lt;number&gt;, lonnie affronti versus united...</td>\n",
       "      <td>[]</td>\n",
       "    </tr>\n",
       "    <tr>\n",
       "      <th>13127__0_001</th>\n",
       "      <td>None</td>\n",
       "      <td>may pleas court writ certiorari eighth circuit...</td>\n",
       "      <td>harry_f_murphy</td>\n",
       "      <td>13127__0_000</td>\n",
       "      <td>13127</td>\n",
       "      <td>1955_71</td>\n",
       "      <td>[9.218, 11.538, 15.653, 22.722, 28.849, 33.575]</td>\n",
       "      <td>[11.538, 15.653, 22.722, 28.849, 33.575, 48.138]</td>\n",
       "      <td>A</td>\n",
       "      <td>1</td>\n",
       "      <td>9.218</td>\n",
       "      <td>may it please the court. we are here by writ o...</td>\n",
       "      <td>[]</td>\n",
       "    </tr>\n",
       "    <tr>\n",
       "      <th>13127__0_002</th>\n",
       "      <td>None</td>\n",
       "      <td>consecut sentenc</td>\n",
       "      <td>j__william_o_douglas</td>\n",
       "      <td>13127__0_001</td>\n",
       "      <td>13127</td>\n",
       "      <td>1955_71</td>\n",
       "      <td>[48.138]</td>\n",
       "      <td>[49.315]</td>\n",
       "      <td>J</td>\n",
       "      <td>None</td>\n",
       "      <td>48.138</td>\n",
       "      <td>consecutive sentences.</td>\n",
       "      <td>[]</td>\n",
       "    </tr>\n",
       "    <tr>\n",
       "      <th>13127__0_003</th>\n",
       "      <td>None</td>\n",
       "      <td>consecut sentenc case defend affronti indict n...</td>\n",
       "      <td>harry_f_murphy</td>\n",
       "      <td>13127__0_002</td>\n",
       "      <td>13127</td>\n",
       "      <td>1955_71</td>\n",
       "      <td>[49.315, 51.844, 60.81, 67.083, 72.584, 89.839...</td>\n",
       "      <td>[51.844, 60.81, 67.083, 72.584, 89.839, 95.873...</td>\n",
       "      <td>A</td>\n",
       "      <td>1</td>\n",
       "      <td>49.315</td>\n",
       "      <td>consecutive sentences. in this case, the defen...</td>\n",
       "      <td>[]</td>\n",
       "    </tr>\n",
       "    <tr>\n",
       "      <th>13127__0_004</th>\n",
       "      <td>None</td>\n",
       "      <td>aggreg prison sentenc number number year</td>\n",
       "      <td>&lt;INAUDIBLE&gt;</td>\n",
       "      <td>13127__0_003</td>\n",
       "      <td>13127</td>\n",
       "      <td>1955_71</td>\n",
       "      <td>[174.058]</td>\n",
       "      <td>[176.766]</td>\n",
       "      <td>None</td>\n",
       "      <td>None</td>\n",
       "      <td>174.058</td>\n",
       "      <td>was the aggregate prison sentence was &lt;number&gt;...</td>\n",
       "      <td>[]</td>\n",
       "    </tr>\n",
       "  </tbody>\n",
       "</table>\n",
       "</div>"
      ],
      "text/plain": [
       "             timestamp                                               text  \\\n",
       "id                                                                          \n",
       "13127__0_000      None  number number lonni affronti versu unit state ...   \n",
       "13127__0_001      None  may pleas court writ certiorari eighth circuit...   \n",
       "13127__0_002      None                                   consecut sentenc   \n",
       "13127__0_003      None  consecut sentenc case defend affronti indict n...   \n",
       "13127__0_004      None           aggreg prison sentenc number number year   \n",
       "\n",
       "                           speaker      reply_to conversation_id meta.case_id  \\\n",
       "id                                                                              \n",
       "13127__0_000        j__earl_warren          None           13127      1955_71   \n",
       "13127__0_001        harry_f_murphy  13127__0_000           13127      1955_71   \n",
       "13127__0_002  j__william_o_douglas  13127__0_001           13127      1955_71   \n",
       "13127__0_003        harry_f_murphy  13127__0_002           13127      1955_71   \n",
       "13127__0_004           <INAUDIBLE>  13127__0_003           13127      1955_71   \n",
       "\n",
       "                                               meta.start_times  \\\n",
       "id                                                                \n",
       "13127__0_000                                       [0.0, 7.624]   \n",
       "13127__0_001    [9.218, 11.538, 15.653, 22.722, 28.849, 33.575]   \n",
       "13127__0_002                                           [48.138]   \n",
       "13127__0_003  [49.315, 51.844, 60.81, 67.083, 72.584, 89.839...   \n",
       "13127__0_004                                          [174.058]   \n",
       "\n",
       "                                                meta.stop_times  \\\n",
       "id                                                                \n",
       "13127__0_000                                     [7.624, 9.218]   \n",
       "13127__0_001   [11.538, 15.653, 22.722, 28.849, 33.575, 48.138]   \n",
       "13127__0_002                                           [49.315]   \n",
       "13127__0_003  [51.844, 60.81, 67.083, 72.584, 89.839, 95.873...   \n",
       "13127__0_004                                          [176.766]   \n",
       "\n",
       "             meta.speaker_type meta.side meta.timestamp  \\\n",
       "id                                                        \n",
       "13127__0_000                 J      None            0.0   \n",
       "13127__0_001                 A         1          9.218   \n",
       "13127__0_002                 J      None         48.138   \n",
       "13127__0_003                 A         1         49.315   \n",
       "13127__0_004              None      None        174.058   \n",
       "\n",
       "                                                  meta.original vectors  \n",
       "id                                                                       \n",
       "13127__0_000  number <number>, lonnie affronti versus united...      []  \n",
       "13127__0_001  may it please the court. we are here by writ o...      []  \n",
       "13127__0_002                             consecutive sentences.      []  \n",
       "13127__0_003  consecutive sentences. in this case, the defen...      []  \n",
       "13127__0_004  was the aggregate prison sentence was <number>...      []  "
      ]
     },
     "execution_count": 15,
     "metadata": {},
     "output_type": "execute_result"
    }
   ],
   "source": [
    "utterances_df.head()"
   ]
  },
  {
   "cell_type": "code",
   "execution_count": 16,
   "id": "c489adf9",
   "metadata": {},
   "outputs": [
    {
     "data": {
      "text/plain": [
       "'number number lonni affronti versu unit state america mr. murphi'"
      ]
     },
     "execution_count": 16,
     "metadata": {},
     "output_type": "execute_result"
    }
   ],
   "source": [
    "utterances_df[\"text\"][0]"
   ]
  },
  {
   "cell_type": "code",
   "execution_count": null,
   "id": "51c7b5a1",
   "metadata": {},
   "outputs": [],
   "source": []
  }
 ],
 "metadata": {
  "kernelspec": {
   "display_name": "scotus",
   "language": "python",
   "name": "scotus"
  },
  "language_info": {
   "codemirror_mode": {
    "name": "ipython",
    "version": 3
   },
   "file_extension": ".py",
   "mimetype": "text/x-python",
   "name": "python",
   "nbconvert_exporter": "python",
   "pygments_lexer": "ipython3",
   "version": "3.9.12"
  }
 },
 "nbformat": 4,
 "nbformat_minor": 5
}
