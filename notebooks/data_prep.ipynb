{
 "cells": [
  {
   "cell_type": "code",
   "execution_count": 2,
   "id": "7d42b467",
   "metadata": {},
   "outputs": [],
   "source": [
    "from convokit import Corpus, download, TextCleaner, TextParser, BoWTransformer\n",
    "import pandas as pd\n",
    "import json"
   ]
  },
  {
   "cell_type": "code",
   "execution_count": 21,
   "id": "d63950af",
   "metadata": {},
   "outputs": [],
   "source": [
    "corpus = Corpus(filename=\"/Users/vaughnfranz/.convokit/downloads/supreme-corpus\")"
   ]
  },
  {
   "cell_type": "markdown",
   "id": "76787002",
   "metadata": {},
   "source": [
    "## Data Preprocessing \n",
    "\n",
    "Below I define a couple of custom cleaning functions to complement the built in cleaning capabilites of convokit.\n",
    "\n",
    "The TextCleaner transformer from convokit operates on a string, so these functions do as well. \n",
    "\n",
    "The first function removes punctuation. The second removes stopwords and lemmatizes the text."
   ]
  },
  {
   "cell_type": "code",
   "execution_count": 38,
   "id": "b569c13a",
   "metadata": {},
   "outputs": [
    {
     "name": "stderr",
     "output_type": "stream",
     "text": [
      "[nltk_data] Downloading package stopwords to\n",
      "[nltk_data]     /Users/vaughnfranz/nltk_data...\n",
      "[nltk_data]   Package stopwords is already up-to-date!\n",
      "[nltk_data] Downloading package wordnet to\n",
      "[nltk_data]     /Users/vaughnfranz/nltk_data...\n",
      "[nltk_data]   Package wordnet is already up-to-date!\n",
      "[nltk_data] Downloading package omw-1.4 to\n",
      "[nltk_data]     /Users/vaughnfranz/nltk_data...\n",
      "[nltk_data]   Unzipping corpora/omw-1.4.zip.\n"
     ]
    }
   ],
   "source": [
    "import nltk\n",
    "import re\n",
    "from nltk.corpus import stopwords\n",
    "from nltk.stem.porter import PorterStemmer\n",
    "from nltk.stem import WordNetLemmatizer\n",
    "import string\n",
    "\n",
    "nltk.download('stopwords')\n",
    "nltk.download('wordnet')\n",
    "nltk.download('omw-1.4')\n",
    "stop_words = set(stopwords.words('english'))\n",
    "wordNetLemm = WordNetLemmatizer()\n",
    "\n",
    "def remove_punctuation(text):\n",
    "    cleaned = \"\".join([char for char in text if char not in string.punctuation])\n",
    "    return cleaned\n",
    "\n",
    "def custom_cleaner(text):\n",
    "    toks = text.split()\n",
    "    toks = [word for word in toks if not word in stop_words]\n",
    "    toks = [wordNetLemm.lemmatize(word) for word in toks]\n",
    "    cleaned = \" \".join(toks)\n",
    "    return cleaned"
   ]
  },
  {
   "cell_type": "markdown",
   "id": "9fdebb4b",
   "metadata": {},
   "source": [
    "I'm going to start wiht removing the punctuation, then use the built in cleaning functionality, and then do the additional cleaning. The reason for this is to avoid affecting the special tokens which convokit inserts for numbers and the like.\n",
    "\n",
    "Verbosity of 250,000 feels reasonable for 1.7+ million utterances, so I will use that number throughout. \n",
    "\n",
    "The TextCleaner class of convokit takes a keyword arg that allows us to specify a custom cleaining function to apply to each utterance. \n",
    "\n",
    "With replace set to False the cleaner should store the cleaned text in an attribute on the utterances called 'cleaned.' The original text will be preserved in 'text.' I will then do the additional cleaning steps on the 'cleaned' attribute. "
   ]
  },
  {
   "cell_type": "code",
   "execution_count": 31,
   "id": "e37699eb",
   "metadata": {},
   "outputs": [
    {
     "name": "stdout",
     "output_type": "stream",
     "text": [
      "250000/1700789 utterances processed\n",
      "500000/1700789 utterances processed\n",
      "750000/1700789 utterances processed\n",
      "1000000/1700789 utterances processed\n",
      "1250000/1700789 utterances processed\n",
      "1500000/1700789 utterances processed\n",
      "1700789/1700789 utterances processed\n"
     ]
    }
   ],
   "source": [
    "corpus = TextCleaner(verbosity=250000, text_cleaner=remove_punctuation, replace_text=False).transform(corpus)"
   ]
  },
  {
   "cell_type": "markdown",
   "id": "3128438a",
   "metadata": {},
   "source": [
    "Let's make sure the cleaning is operating more or less as expected."
   ]
  },
  {
   "cell_type": "code",
   "execution_count": 32,
   "id": "cf909c4e",
   "metadata": {},
   "outputs": [
    {
     "name": "stdout",
     "output_type": "stream",
     "text": [
      "ORIGINAL: Number 71, Lonnie Affronti versus United States of America.\n",
      "Mr. Murphy.\n",
      "CLEANED: Number 71 Lonnie Affronti versus United States of America\n",
      "Mr Murphy\n"
     ]
    }
   ],
   "source": [
    "test_utterance_id = '13127__0_000'\n",
    "utt = corpus.get_utterance(test_utterance_id)\n",
    "print('ORIGINAL:', utt.text)\n",
    "print('CLEANED:', utt.meta['cleaned'])"
   ]
  },
  {
   "cell_type": "markdown",
   "id": "fa6d67d9",
   "metadata": {},
   "source": [
    "Cleaning using the built in functionality of convokit. \n",
    "\n",
    "The TextCleaner will, by default:\n",
    "- fix unicode errors, transliterate text to the closest ASCII representation\n",
    "- lowercase text\n",
    "- remove line breaks\n",
    "- replace URLs, emails, phone numbers, numbers, and currency symbols with special tokens\n",
    "\n",
    "The cleaner will operate by default on the utterances (specifically, utterance.text)."
   ]
  },
  {
   "cell_type": "code",
   "execution_count": 33,
   "id": "51a6b0d1",
   "metadata": {
    "scrolled": false
   },
   "outputs": [
    {
     "name": "stdout",
     "output_type": "stream",
     "text": [
      "250000/1700789 utterances processed\n",
      "500000/1700789 utterances processed\n",
      "750000/1700789 utterances processed\n",
      "1000000/1700789 utterances processed\n",
      "1250000/1700789 utterances processed\n",
      "1500000/1700789 utterances processed\n",
      "1700789/1700789 utterances processed\n"
     ]
    }
   ],
   "source": [
    "corpus = TextCleaner(verbosity=250000, input_field='cleaned', replace_text=False).transform(corpus)"
   ]
  },
  {
   "cell_type": "markdown",
   "id": "21a97004",
   "metadata": {},
   "source": [
    "Another sanity test on the cleaning process."
   ]
  },
  {
   "cell_type": "code",
   "execution_count": 34,
   "id": "326e6a4b",
   "metadata": {},
   "outputs": [
    {
     "name": "stdout",
     "output_type": "stream",
     "text": [
      "TEST: 13127__0_000\n",
      "ORIGINAL: Number 71, Lonnie Affronti versus United States of America.\n",
      "Mr. Murphy.\n",
      "CLEANED: number <number> lonnie affronti versus united states of america mr murphy\n",
      "TEST: 13127__0_004\n",
      "ORIGINAL: Was the aggregate prison sentence was 20 or 25 years?\n",
      "CLEANED: was the aggregate prison sentence was <number> or <number> years\n"
     ]
    }
   ],
   "source": [
    "test_utterance_id = '13127__0_000'\n",
    "test_utterance_id_2 = '13127__0_004'\n",
    "utt = corpus.get_utterance(test_utterance_id)\n",
    "print('TEST: 13127__0_000')\n",
    "print('ORIGINAL:', utt.text)\n",
    "print('CLEANED:', utt.meta['cleaned'])\n",
    "utt2 = corpus.get_utterance(test_utterance_id_2)\n",
    "print('TEST: 13127__0_004')\n",
    "print('ORIGINAL:', utt2.text)\n",
    "print('CLEANED:', utt2.meta['cleaned'])"
   ]
  },
  {
   "cell_type": "markdown",
   "id": "84fece6a",
   "metadata": {},
   "source": [
    "Now performing our other custom cleaning steps as defined in the function up top. "
   ]
  },
  {
   "cell_type": "code",
   "execution_count": 39,
   "id": "d54b0c40",
   "metadata": {},
   "outputs": [
    {
     "name": "stdout",
     "output_type": "stream",
     "text": [
      "250000/1700789 utterances processed\n",
      "500000/1700789 utterances processed\n",
      "750000/1700789 utterances processed\n",
      "1000000/1700789 utterances processed\n",
      "1250000/1700789 utterances processed\n",
      "1500000/1700789 utterances processed\n",
      "1700789/1700789 utterances processed\n"
     ]
    }
   ],
   "source": [
    "corpus = TextCleaner(verbosity=250000, text_cleaner=custom_cleaner, input_field='cleaned', replace_text=False).transform(corpus)"
   ]
  },
  {
   "cell_type": "markdown",
   "id": "e0fc7a8d",
   "metadata": {},
   "source": [
    "Sanity test again..."
   ]
  },
  {
   "cell_type": "code",
   "execution_count": 40,
   "id": "cb9c05da",
   "metadata": {
    "scrolled": true
   },
   "outputs": [
    {
     "name": "stdout",
     "output_type": "stream",
     "text": [
      "TEST: 13127__0_000\n",
      "ORIGINAL: Number 71, Lonnie Affronti versus United States of America.\n",
      "Mr. Murphy.\n",
      "CLEANED: number <number> lonnie affronti versus united state america mr murphy\n",
      "TEST: 13127__0_004\n",
      "ORIGINAL: Was the aggregate prison sentence was 20 or 25 years?\n",
      "CLEANED: aggregate prison sentence <number> <number> year\n"
     ]
    }
   ],
   "source": [
    "test_utterance_id = '13127__0_000'\n",
    "test_utterance_id_2 = '13127__0_004'\n",
    "utt = corpus.get_utterance(test_utterance_id)\n",
    "print('TEST: 13127__0_000')\n",
    "print('ORIGINAL:', utt.text)\n",
    "print('CLEANED:', utt.meta['cleaned'])\n",
    "utt2 = corpus.get_utterance(test_utterance_id_2)\n",
    "print('TEST: 13127__0_004')\n",
    "print('ORIGINAL:', utt2.text)\n",
    "print('CLEANED:', utt2.meta['cleaned'])"
   ]
  },
  {
   "cell_type": "markdown",
   "id": "577365ab",
   "metadata": {},
   "source": [
    "## Putting the data together \n",
    "Now we can get our dataframes, and connect the case information with the utterances."
   ]
  },
  {
   "cell_type": "code",
   "execution_count": 42,
   "id": "4d6a990f",
   "metadata": {},
   "outputs": [],
   "source": [
    "utterances_df = corpus.get_utterances_dataframe()"
   ]
  },
  {
   "cell_type": "code",
   "execution_count": 41,
   "id": "b913b6d2",
   "metadata": {},
   "outputs": [],
   "source": [
    "conversations_df = corpus.get_conversations_dataframe()"
   ]
  },
  {
   "cell_type": "code",
   "execution_count": 43,
   "id": "4c8ac59a",
   "metadata": {
    "scrolled": true
   },
   "outputs": [
    {
     "data": {
      "text/html": [
       "<div>\n",
       "<style scoped>\n",
       "    .dataframe tbody tr th:only-of-type {\n",
       "        vertical-align: middle;\n",
       "    }\n",
       "\n",
       "    .dataframe tbody tr th {\n",
       "        vertical-align: top;\n",
       "    }\n",
       "\n",
       "    .dataframe thead th {\n",
       "        text-align: right;\n",
       "    }\n",
       "</style>\n",
       "<table border=\"1\" class=\"dataframe\">\n",
       "  <thead>\n",
       "    <tr style=\"text-align: right;\">\n",
       "      <th></th>\n",
       "      <th>timestamp</th>\n",
       "      <th>text</th>\n",
       "      <th>speaker</th>\n",
       "      <th>reply_to</th>\n",
       "      <th>conversation_id</th>\n",
       "      <th>meta.case_id</th>\n",
       "      <th>meta.start_times</th>\n",
       "      <th>meta.stop_times</th>\n",
       "      <th>meta.speaker_type</th>\n",
       "      <th>meta.side</th>\n",
       "      <th>meta.timestamp</th>\n",
       "      <th>meta.cleaned</th>\n",
       "      <th>vectors</th>\n",
       "    </tr>\n",
       "    <tr>\n",
       "      <th>id</th>\n",
       "      <th></th>\n",
       "      <th></th>\n",
       "      <th></th>\n",
       "      <th></th>\n",
       "      <th></th>\n",
       "      <th></th>\n",
       "      <th></th>\n",
       "      <th></th>\n",
       "      <th></th>\n",
       "      <th></th>\n",
       "      <th></th>\n",
       "      <th></th>\n",
       "      <th></th>\n",
       "    </tr>\n",
       "  </thead>\n",
       "  <tbody>\n",
       "    <tr>\n",
       "      <th>13127__0_000</th>\n",
       "      <td>None</td>\n",
       "      <td>Number 71, Lonnie Affronti versus United State...</td>\n",
       "      <td>j__earl_warren</td>\n",
       "      <td>None</td>\n",
       "      <td>13127</td>\n",
       "      <td>1955_71</td>\n",
       "      <td>[0.0, 7.624]</td>\n",
       "      <td>[7.624, 9.218]</td>\n",
       "      <td>J</td>\n",
       "      <td>None</td>\n",
       "      <td>0.0</td>\n",
       "      <td>number &lt;number&gt; lonnie affronti versus united ...</td>\n",
       "      <td>[]</td>\n",
       "    </tr>\n",
       "    <tr>\n",
       "      <th>13127__0_001</th>\n",
       "      <td>None</td>\n",
       "      <td>May it please the Court.\\nWe are here by writ ...</td>\n",
       "      <td>harry_f_murphy</td>\n",
       "      <td>13127__0_000</td>\n",
       "      <td>13127</td>\n",
       "      <td>1955_71</td>\n",
       "      <td>[9.218, 11.538, 15.653, 22.722, 28.849, 33.575]</td>\n",
       "      <td>[11.538, 15.653, 22.722, 28.849, 33.575, 48.138]</td>\n",
       "      <td>A</td>\n",
       "      <td>1</td>\n",
       "      <td>9.218</td>\n",
       "      <td>may please court writ certiorari eighth circui...</td>\n",
       "      <td>[]</td>\n",
       "    </tr>\n",
       "    <tr>\n",
       "      <th>13127__0_002</th>\n",
       "      <td>None</td>\n",
       "      <td>Consecutive sentences.</td>\n",
       "      <td>j__william_o_douglas</td>\n",
       "      <td>13127__0_001</td>\n",
       "      <td>13127</td>\n",
       "      <td>1955_71</td>\n",
       "      <td>[48.138]</td>\n",
       "      <td>[49.315]</td>\n",
       "      <td>J</td>\n",
       "      <td>None</td>\n",
       "      <td>48.138</td>\n",
       "      <td>consecutive sentence</td>\n",
       "      <td>[]</td>\n",
       "    </tr>\n",
       "    <tr>\n",
       "      <th>13127__0_003</th>\n",
       "      <td>None</td>\n",
       "      <td>Consecutive sentences.\\nIn this case, the defe...</td>\n",
       "      <td>harry_f_murphy</td>\n",
       "      <td>13127__0_002</td>\n",
       "      <td>13127</td>\n",
       "      <td>1955_71</td>\n",
       "      <td>[49.315, 51.844, 60.81, 67.083, 72.584, 89.839...</td>\n",
       "      <td>[51.844, 60.81, 67.083, 72.584, 89.839, 95.873...</td>\n",
       "      <td>A</td>\n",
       "      <td>1</td>\n",
       "      <td>49.315</td>\n",
       "      <td>consecutive sentence case defendant affronti i...</td>\n",
       "      <td>[]</td>\n",
       "    </tr>\n",
       "    <tr>\n",
       "      <th>13127__0_004</th>\n",
       "      <td>None</td>\n",
       "      <td>Was the aggregate prison sentence was 20 or 25...</td>\n",
       "      <td>&lt;INAUDIBLE&gt;</td>\n",
       "      <td>13127__0_003</td>\n",
       "      <td>13127</td>\n",
       "      <td>1955_71</td>\n",
       "      <td>[174.058]</td>\n",
       "      <td>[176.766]</td>\n",
       "      <td>None</td>\n",
       "      <td>None</td>\n",
       "      <td>174.058</td>\n",
       "      <td>aggregate prison sentence &lt;number&gt; &lt;number&gt; year</td>\n",
       "      <td>[]</td>\n",
       "    </tr>\n",
       "  </tbody>\n",
       "</table>\n",
       "</div>"
      ],
      "text/plain": [
       "             timestamp                                               text  \\\n",
       "id                                                                          \n",
       "13127__0_000      None  Number 71, Lonnie Affronti versus United State...   \n",
       "13127__0_001      None  May it please the Court.\\nWe are here by writ ...   \n",
       "13127__0_002      None                             Consecutive sentences.   \n",
       "13127__0_003      None  Consecutive sentences.\\nIn this case, the defe...   \n",
       "13127__0_004      None  Was the aggregate prison sentence was 20 or 25...   \n",
       "\n",
       "                           speaker      reply_to conversation_id meta.case_id  \\\n",
       "id                                                                              \n",
       "13127__0_000        j__earl_warren          None           13127      1955_71   \n",
       "13127__0_001        harry_f_murphy  13127__0_000           13127      1955_71   \n",
       "13127__0_002  j__william_o_douglas  13127__0_001           13127      1955_71   \n",
       "13127__0_003        harry_f_murphy  13127__0_002           13127      1955_71   \n",
       "13127__0_004           <INAUDIBLE>  13127__0_003           13127      1955_71   \n",
       "\n",
       "                                               meta.start_times  \\\n",
       "id                                                                \n",
       "13127__0_000                                       [0.0, 7.624]   \n",
       "13127__0_001    [9.218, 11.538, 15.653, 22.722, 28.849, 33.575]   \n",
       "13127__0_002                                           [48.138]   \n",
       "13127__0_003  [49.315, 51.844, 60.81, 67.083, 72.584, 89.839...   \n",
       "13127__0_004                                          [174.058]   \n",
       "\n",
       "                                                meta.stop_times  \\\n",
       "id                                                                \n",
       "13127__0_000                                     [7.624, 9.218]   \n",
       "13127__0_001   [11.538, 15.653, 22.722, 28.849, 33.575, 48.138]   \n",
       "13127__0_002                                           [49.315]   \n",
       "13127__0_003  [51.844, 60.81, 67.083, 72.584, 89.839, 95.873...   \n",
       "13127__0_004                                          [176.766]   \n",
       "\n",
       "             meta.speaker_type meta.side meta.timestamp  \\\n",
       "id                                                        \n",
       "13127__0_000                 J      None            0.0   \n",
       "13127__0_001                 A         1          9.218   \n",
       "13127__0_002                 J      None         48.138   \n",
       "13127__0_003                 A         1         49.315   \n",
       "13127__0_004              None      None        174.058   \n",
       "\n",
       "                                                   meta.cleaned vectors  \n",
       "id                                                                       \n",
       "13127__0_000  number <number> lonnie affronti versus united ...      []  \n",
       "13127__0_001  may please court writ certiorari eighth circui...      []  \n",
       "13127__0_002                               consecutive sentence      []  \n",
       "13127__0_003  consecutive sentence case defendant affronti i...      []  \n",
       "13127__0_004   aggregate prison sentence <number> <number> year      []  "
      ]
     },
     "execution_count": 43,
     "metadata": {},
     "output_type": "execute_result"
    }
   ],
   "source": [
    "utterances_df.head()"
   ]
  },
  {
   "cell_type": "code",
   "execution_count": 44,
   "id": "332b61c2",
   "metadata": {},
   "outputs": [
    {
     "data": {
      "text/html": [
       "<div>\n",
       "<style scoped>\n",
       "    .dataframe tbody tr th:only-of-type {\n",
       "        vertical-align: middle;\n",
       "    }\n",
       "\n",
       "    .dataframe tbody tr th {\n",
       "        vertical-align: top;\n",
       "    }\n",
       "\n",
       "    .dataframe thead th {\n",
       "        text-align: right;\n",
       "    }\n",
       "</style>\n",
       "<table border=\"1\" class=\"dataframe\">\n",
       "  <thead>\n",
       "    <tr style=\"text-align: right;\">\n",
       "      <th></th>\n",
       "      <th>vectors</th>\n",
       "      <th>meta.case_id</th>\n",
       "      <th>meta.advocates</th>\n",
       "      <th>meta.win_side</th>\n",
       "      <th>meta.votes_side</th>\n",
       "    </tr>\n",
       "    <tr>\n",
       "      <th>id</th>\n",
       "      <th></th>\n",
       "      <th></th>\n",
       "      <th></th>\n",
       "      <th></th>\n",
       "      <th></th>\n",
       "    </tr>\n",
       "  </thead>\n",
       "  <tbody>\n",
       "    <tr>\n",
       "      <th>13127</th>\n",
       "      <td>[]</td>\n",
       "      <td>1955_71</td>\n",
       "      <td>{'harry_f_murphy': {'side': 1, 'role': 'inferr...</td>\n",
       "      <td>0</td>\n",
       "      <td>{'j__john_m_harlan2': 0, 'j__hugo_l_black': 0,...</td>\n",
       "    </tr>\n",
       "    <tr>\n",
       "      <th>12997</th>\n",
       "      <td>[]</td>\n",
       "      <td>1955_410</td>\n",
       "      <td>{'howard_c_westwood': {'side': 1, 'role': 'inf...</td>\n",
       "      <td>1</td>\n",
       "      <td>{'j__john_m_harlan2': 1, 'j__hugo_l_black': 1,...</td>\n",
       "    </tr>\n",
       "    <tr>\n",
       "      <th>13024</th>\n",
       "      <td>[]</td>\n",
       "      <td>1955_410</td>\n",
       "      <td>{'howard_c_westwood': {'side': 1, 'role': 'inf...</td>\n",
       "      <td>1</td>\n",
       "      <td>{'j__john_m_harlan2': 1, 'j__hugo_l_black': 1,...</td>\n",
       "    </tr>\n",
       "    <tr>\n",
       "      <th>13015</th>\n",
       "      <td>[]</td>\n",
       "      <td>1955_351</td>\n",
       "      <td>{'harry_d_graham': {'side': 3, 'role': 'inferr...</td>\n",
       "      <td>1</td>\n",
       "      <td>{'j__john_m_harlan2': 1, 'j__hugo_l_black': 1,...</td>\n",
       "    </tr>\n",
       "    <tr>\n",
       "      <th>13016</th>\n",
       "      <td>[]</td>\n",
       "      <td>1955_38</td>\n",
       "      <td>{'robert_n_gorman': {'side': 3, 'role': 'infer...</td>\n",
       "      <td>0</td>\n",
       "      <td>{'j__john_m_harlan2': 0, 'j__hugo_l_black': 0,...</td>\n",
       "    </tr>\n",
       "  </tbody>\n",
       "</table>\n",
       "</div>"
      ],
      "text/plain": [
       "      vectors meta.case_id                                     meta.advocates  \\\n",
       "id                                                                              \n",
       "13127      []      1955_71  {'harry_f_murphy': {'side': 1, 'role': 'inferr...   \n",
       "12997      []     1955_410  {'howard_c_westwood': {'side': 1, 'role': 'inf...   \n",
       "13024      []     1955_410  {'howard_c_westwood': {'side': 1, 'role': 'inf...   \n",
       "13015      []     1955_351  {'harry_d_graham': {'side': 3, 'role': 'inferr...   \n",
       "13016      []      1955_38  {'robert_n_gorman': {'side': 3, 'role': 'infer...   \n",
       "\n",
       "      meta.win_side                                    meta.votes_side  \n",
       "id                                                                      \n",
       "13127             0  {'j__john_m_harlan2': 0, 'j__hugo_l_black': 0,...  \n",
       "12997             1  {'j__john_m_harlan2': 1, 'j__hugo_l_black': 1,...  \n",
       "13024             1  {'j__john_m_harlan2': 1, 'j__hugo_l_black': 1,...  \n",
       "13015             1  {'j__john_m_harlan2': 1, 'j__hugo_l_black': 1,...  \n",
       "13016             0  {'j__john_m_harlan2': 0, 'j__hugo_l_black': 0,...  "
      ]
     },
     "execution_count": 44,
     "metadata": {},
     "output_type": "execute_result"
    }
   ],
   "source": [
    "conversations_df.head()"
   ]
  },
  {
   "cell_type": "markdown",
   "id": "ba2e9efc",
   "metadata": {},
   "source": [
    "We can use the pandas built in merge function to bring in the case information to the utterances df. "
   ]
  },
  {
   "cell_type": "code",
   "execution_count": 45,
   "id": "5398717e",
   "metadata": {},
   "outputs": [],
   "source": [
    "utterances_df = pd.merge(utterances_df, conversations_df[['meta.case_id', 'meta.win_side', 'meta.votes_side']], how='left', left_on='meta.case_id', right_on='meta.case_id')"
   ]
  },
  {
   "cell_type": "code",
   "execution_count": 46,
   "id": "e6434e3b",
   "metadata": {
    "scrolled": true
   },
   "outputs": [
    {
     "data": {
      "text/html": [
       "<div>\n",
       "<style scoped>\n",
       "    .dataframe tbody tr th:only-of-type {\n",
       "        vertical-align: middle;\n",
       "    }\n",
       "\n",
       "    .dataframe tbody tr th {\n",
       "        vertical-align: top;\n",
       "    }\n",
       "\n",
       "    .dataframe thead th {\n",
       "        text-align: right;\n",
       "    }\n",
       "</style>\n",
       "<table border=\"1\" class=\"dataframe\">\n",
       "  <thead>\n",
       "    <tr style=\"text-align: right;\">\n",
       "      <th></th>\n",
       "      <th>timestamp</th>\n",
       "      <th>text</th>\n",
       "      <th>speaker</th>\n",
       "      <th>reply_to</th>\n",
       "      <th>conversation_id</th>\n",
       "      <th>meta.case_id</th>\n",
       "      <th>meta.start_times</th>\n",
       "      <th>meta.stop_times</th>\n",
       "      <th>meta.speaker_type</th>\n",
       "      <th>meta.side</th>\n",
       "      <th>meta.timestamp</th>\n",
       "      <th>meta.cleaned</th>\n",
       "      <th>vectors</th>\n",
       "      <th>meta.win_side</th>\n",
       "      <th>meta.votes_side</th>\n",
       "    </tr>\n",
       "  </thead>\n",
       "  <tbody>\n",
       "    <tr>\n",
       "      <th>0</th>\n",
       "      <td>None</td>\n",
       "      <td>Number 71, Lonnie Affronti versus United State...</td>\n",
       "      <td>j__earl_warren</td>\n",
       "      <td>None</td>\n",
       "      <td>13127</td>\n",
       "      <td>1955_71</td>\n",
       "      <td>[0.0, 7.624]</td>\n",
       "      <td>[7.624, 9.218]</td>\n",
       "      <td>J</td>\n",
       "      <td>None</td>\n",
       "      <td>0.0</td>\n",
       "      <td>number &lt;number&gt; lonnie affronti versus united ...</td>\n",
       "      <td>[]</td>\n",
       "      <td>0</td>\n",
       "      <td>{'j__john_m_harlan2': 0, 'j__hugo_l_black': 0,...</td>\n",
       "    </tr>\n",
       "    <tr>\n",
       "      <th>1</th>\n",
       "      <td>None</td>\n",
       "      <td>May it please the Court.\\nWe are here by writ ...</td>\n",
       "      <td>harry_f_murphy</td>\n",
       "      <td>13127__0_000</td>\n",
       "      <td>13127</td>\n",
       "      <td>1955_71</td>\n",
       "      <td>[9.218, 11.538, 15.653, 22.722, 28.849, 33.575]</td>\n",
       "      <td>[11.538, 15.653, 22.722, 28.849, 33.575, 48.138]</td>\n",
       "      <td>A</td>\n",
       "      <td>1</td>\n",
       "      <td>9.218</td>\n",
       "      <td>may please court writ certiorari eighth circui...</td>\n",
       "      <td>[]</td>\n",
       "      <td>0</td>\n",
       "      <td>{'j__john_m_harlan2': 0, 'j__hugo_l_black': 0,...</td>\n",
       "    </tr>\n",
       "    <tr>\n",
       "      <th>2</th>\n",
       "      <td>None</td>\n",
       "      <td>Consecutive sentences.</td>\n",
       "      <td>j__william_o_douglas</td>\n",
       "      <td>13127__0_001</td>\n",
       "      <td>13127</td>\n",
       "      <td>1955_71</td>\n",
       "      <td>[48.138]</td>\n",
       "      <td>[49.315]</td>\n",
       "      <td>J</td>\n",
       "      <td>None</td>\n",
       "      <td>48.138</td>\n",
       "      <td>consecutive sentence</td>\n",
       "      <td>[]</td>\n",
       "      <td>0</td>\n",
       "      <td>{'j__john_m_harlan2': 0, 'j__hugo_l_black': 0,...</td>\n",
       "    </tr>\n",
       "    <tr>\n",
       "      <th>3</th>\n",
       "      <td>None</td>\n",
       "      <td>Consecutive sentences.\\nIn this case, the defe...</td>\n",
       "      <td>harry_f_murphy</td>\n",
       "      <td>13127__0_002</td>\n",
       "      <td>13127</td>\n",
       "      <td>1955_71</td>\n",
       "      <td>[49.315, 51.844, 60.81, 67.083, 72.584, 89.839...</td>\n",
       "      <td>[51.844, 60.81, 67.083, 72.584, 89.839, 95.873...</td>\n",
       "      <td>A</td>\n",
       "      <td>1</td>\n",
       "      <td>49.315</td>\n",
       "      <td>consecutive sentence case defendant affronti i...</td>\n",
       "      <td>[]</td>\n",
       "      <td>0</td>\n",
       "      <td>{'j__john_m_harlan2': 0, 'j__hugo_l_black': 0,...</td>\n",
       "    </tr>\n",
       "    <tr>\n",
       "      <th>4</th>\n",
       "      <td>None</td>\n",
       "      <td>Was the aggregate prison sentence was 20 or 25...</td>\n",
       "      <td>&lt;INAUDIBLE&gt;</td>\n",
       "      <td>13127__0_003</td>\n",
       "      <td>13127</td>\n",
       "      <td>1955_71</td>\n",
       "      <td>[174.058]</td>\n",
       "      <td>[176.766]</td>\n",
       "      <td>None</td>\n",
       "      <td>None</td>\n",
       "      <td>174.058</td>\n",
       "      <td>aggregate prison sentence &lt;number&gt; &lt;number&gt; year</td>\n",
       "      <td>[]</td>\n",
       "      <td>0</td>\n",
       "      <td>{'j__john_m_harlan2': 0, 'j__hugo_l_black': 0,...</td>\n",
       "    </tr>\n",
       "  </tbody>\n",
       "</table>\n",
       "</div>"
      ],
      "text/plain": [
       "  timestamp                                               text  \\\n",
       "0      None  Number 71, Lonnie Affronti versus United State...   \n",
       "1      None  May it please the Court.\\nWe are here by writ ...   \n",
       "2      None                             Consecutive sentences.   \n",
       "3      None  Consecutive sentences.\\nIn this case, the defe...   \n",
       "4      None  Was the aggregate prison sentence was 20 or 25...   \n",
       "\n",
       "                speaker      reply_to conversation_id meta.case_id  \\\n",
       "0        j__earl_warren          None           13127      1955_71   \n",
       "1        harry_f_murphy  13127__0_000           13127      1955_71   \n",
       "2  j__william_o_douglas  13127__0_001           13127      1955_71   \n",
       "3        harry_f_murphy  13127__0_002           13127      1955_71   \n",
       "4           <INAUDIBLE>  13127__0_003           13127      1955_71   \n",
       "\n",
       "                                    meta.start_times  \\\n",
       "0                                       [0.0, 7.624]   \n",
       "1    [9.218, 11.538, 15.653, 22.722, 28.849, 33.575]   \n",
       "2                                           [48.138]   \n",
       "3  [49.315, 51.844, 60.81, 67.083, 72.584, 89.839...   \n",
       "4                                          [174.058]   \n",
       "\n",
       "                                     meta.stop_times meta.speaker_type  \\\n",
       "0                                     [7.624, 9.218]                 J   \n",
       "1   [11.538, 15.653, 22.722, 28.849, 33.575, 48.138]                 A   \n",
       "2                                           [49.315]                 J   \n",
       "3  [51.844, 60.81, 67.083, 72.584, 89.839, 95.873...                 A   \n",
       "4                                          [176.766]              None   \n",
       "\n",
       "  meta.side meta.timestamp                                       meta.cleaned  \\\n",
       "0      None            0.0  number <number> lonnie affronti versus united ...   \n",
       "1         1          9.218  may please court writ certiorari eighth circui...   \n",
       "2      None         48.138                               consecutive sentence   \n",
       "3         1         49.315  consecutive sentence case defendant affronti i...   \n",
       "4      None        174.058   aggregate prison sentence <number> <number> year   \n",
       "\n",
       "  vectors meta.win_side                                    meta.votes_side  \n",
       "0      []             0  {'j__john_m_harlan2': 0, 'j__hugo_l_black': 0,...  \n",
       "1      []             0  {'j__john_m_harlan2': 0, 'j__hugo_l_black': 0,...  \n",
       "2      []             0  {'j__john_m_harlan2': 0, 'j__hugo_l_black': 0,...  \n",
       "3      []             0  {'j__john_m_harlan2': 0, 'j__hugo_l_black': 0,...  \n",
       "4      []             0  {'j__john_m_harlan2': 0, 'j__hugo_l_black': 0,...  "
      ]
     },
     "execution_count": 46,
     "metadata": {},
     "output_type": "execute_result"
    }
   ],
   "source": [
    "utterances_df.head()"
   ]
  },
  {
   "cell_type": "code",
   "execution_count": 48,
   "id": "430f4adf",
   "metadata": {
    "scrolled": true
   },
   "outputs": [
    {
     "data": {
      "text/plain": [
       " 1    1378597\n",
       " 0     796114\n",
       " 2        831\n",
       "-1        374\n",
       "Name: meta.win_side, dtype: int64"
      ]
     },
     "execution_count": 48,
     "metadata": {},
     "output_type": "execute_result"
    }
   ],
   "source": [
    "utterances_df['meta.win_side'].value_counts()"
   ]
  },
  {
   "cell_type": "markdown",
   "id": "f38f907e",
   "metadata": {},
   "source": [
    "According to convokit documentation a 2 signifies that the decision was unclear and a -1 signifies that the data was unavailable. We can drop these rows to simplify the classification task. "
   ]
  },
  {
   "cell_type": "code",
   "execution_count": 49,
   "id": "81b8093b",
   "metadata": {},
   "outputs": [],
   "source": [
    "utterances_df = utterances_df[utterances_df['meta.win_side'] != 2]\n",
    "utterances_df = utterances_df[utterances_df['meta.win_side'] != -1]"
   ]
  },
  {
   "cell_type": "code",
   "execution_count": 64,
   "id": "983f032b",
   "metadata": {},
   "outputs": [
    {
     "data": {
      "text/plain": [
       "1    1378597\n",
       "0     796114\n",
       "Name: meta.win_side, dtype: int64"
      ]
     },
     "execution_count": 64,
     "metadata": {},
     "output_type": "execute_result"
    }
   ],
   "source": [
    "utterances_df['meta.win_side'].value_counts()"
   ]
  },
  {
   "cell_type": "markdown",
   "id": "1e1a1a4c",
   "metadata": {},
   "source": [
    "## Grouping Utterances by Case for Case Level Classification\n",
    "\n",
    "I wanted to try creating documents for each case in the event that we wanted to do case-level classification. \n",
    "\n",
    "Just going to concatenate all text for the cases. "
   ]
  },
  {
   "cell_type": "code",
   "execution_count": 66,
   "id": "77964f59",
   "metadata": {},
   "outputs": [],
   "source": [
    "utt_df_cpy = utterances_df.copy(deep=True)"
   ]
  },
  {
   "cell_type": "markdown",
   "id": "279ede14",
   "metadata": {},
   "source": [
    "Also going to remove some columns to make this next part simpler..."
   ]
  },
  {
   "cell_type": "code",
   "execution_count": 72,
   "id": "279ac9c0",
   "metadata": {
    "scrolled": true
   },
   "outputs": [
    {
     "data": {
      "text/html": [
       "<div>\n",
       "<style scoped>\n",
       "    .dataframe tbody tr th:only-of-type {\n",
       "        vertical-align: middle;\n",
       "    }\n",
       "\n",
       "    .dataframe tbody tr th {\n",
       "        vertical-align: top;\n",
       "    }\n",
       "\n",
       "    .dataframe thead th {\n",
       "        text-align: right;\n",
       "    }\n",
       "</style>\n",
       "<table border=\"1\" class=\"dataframe\">\n",
       "  <thead>\n",
       "    <tr style=\"text-align: right;\">\n",
       "      <th></th>\n",
       "      <th>text</th>\n",
       "      <th>meta.case_id</th>\n",
       "      <th>meta.cleaned</th>\n",
       "      <th>meta.win_side</th>\n",
       "    </tr>\n",
       "  </thead>\n",
       "  <tbody>\n",
       "    <tr>\n",
       "      <th>0</th>\n",
       "      <td>Number 71, Lonnie Affronti versus United State...</td>\n",
       "      <td>1955_71</td>\n",
       "      <td>number &lt;number&gt; lonnie affronti versus united ...</td>\n",
       "      <td>0</td>\n",
       "    </tr>\n",
       "    <tr>\n",
       "      <th>1</th>\n",
       "      <td>May it please the Court.\\nWe are here by writ ...</td>\n",
       "      <td>1955_71</td>\n",
       "      <td>may please court writ certiorari eighth circui...</td>\n",
       "      <td>0</td>\n",
       "    </tr>\n",
       "    <tr>\n",
       "      <th>2</th>\n",
       "      <td>Consecutive sentences.</td>\n",
       "      <td>1955_71</td>\n",
       "      <td>consecutive sentence</td>\n",
       "      <td>0</td>\n",
       "    </tr>\n",
       "    <tr>\n",
       "      <th>3</th>\n",
       "      <td>Consecutive sentences.\\nIn this case, the defe...</td>\n",
       "      <td>1955_71</td>\n",
       "      <td>consecutive sentence case defendant affronti i...</td>\n",
       "      <td>0</td>\n",
       "    </tr>\n",
       "    <tr>\n",
       "      <th>4</th>\n",
       "      <td>Was the aggregate prison sentence was 20 or 25...</td>\n",
       "      <td>1955_71</td>\n",
       "      <td>aggregate prison sentence &lt;number&gt; &lt;number&gt; year</td>\n",
       "      <td>0</td>\n",
       "    </tr>\n",
       "    <tr>\n",
       "      <th>...</th>\n",
       "      <td>...</td>\n",
       "      <td>...</td>\n",
       "      <td>...</td>\n",
       "      <td>...</td>\n",
       "    </tr>\n",
       "    <tr>\n",
       "      <th>2179509</th>\n",
       "      <td>-- has all sorts of meaning that you're not en...</td>\n",
       "      <td>2019_19-67</td>\n",
       "      <td>sort meaning youre endorsing youre saying aidi...</td>\n",
       "      <td>1</td>\n",
       "    </tr>\n",
       "    <tr>\n",
       "      <th>2179510</th>\n",
       "      <td>No, Your Honor --</td>\n",
       "      <td>2019_19-67</td>\n",
       "      <td>honor</td>\n",
       "      <td>1</td>\n",
       "    </tr>\n",
       "    <tr>\n",
       "      <th>2179511</th>\n",
       "      <td>-- altogether?</td>\n",
       "      <td>2019_19-67</td>\n",
       "      <td>altogether</td>\n",
       "      <td>1</td>\n",
       "    </tr>\n",
       "    <tr>\n",
       "      <th>2179512</th>\n",
       "      <td>-- we are using the principles of complicity a...</td>\n",
       "      <td>2019_19-67</td>\n",
       "      <td>using principle complicity solicitation statut...</td>\n",
       "      <td>1</td>\n",
       "    </tr>\n",
       "    <tr>\n",
       "      <th>2179513</th>\n",
       "      <td>Thank you, counsel.\\nThe case is submitted.</td>\n",
       "      <td>2019_19-67</td>\n",
       "      <td>thank counsel case submitted</td>\n",
       "      <td>1</td>\n",
       "    </tr>\n",
       "  </tbody>\n",
       "</table>\n",
       "<p>2178309 rows × 4 columns</p>\n",
       "</div>"
      ],
      "text/plain": [
       "                                                      text meta.case_id  \\\n",
       "0        Number 71, Lonnie Affronti versus United State...      1955_71   \n",
       "1        May it please the Court.\\nWe are here by writ ...      1955_71   \n",
       "2                                   Consecutive sentences.      1955_71   \n",
       "3        Consecutive sentences.\\nIn this case, the defe...      1955_71   \n",
       "4        Was the aggregate prison sentence was 20 or 25...      1955_71   \n",
       "...                                                    ...          ...   \n",
       "2179509  -- has all sorts of meaning that you're not en...   2019_19-67   \n",
       "2179510                                  No, Your Honor --   2019_19-67   \n",
       "2179511                                     -- altogether?   2019_19-67   \n",
       "2179512  -- we are using the principles of complicity a...   2019_19-67   \n",
       "2179513        Thank you, counsel.\\nThe case is submitted.   2019_19-67   \n",
       "\n",
       "                                              meta.cleaned meta.win_side  \n",
       "0        number <number> lonnie affronti versus united ...             0  \n",
       "1        may please court writ certiorari eighth circui...             0  \n",
       "2                                     consecutive sentence             0  \n",
       "3        consecutive sentence case defendant affronti i...             0  \n",
       "4         aggregate prison sentence <number> <number> year             0  \n",
       "...                                                    ...           ...  \n",
       "2179509  sort meaning youre endorsing youre saying aidi...             1  \n",
       "2179510                                              honor             1  \n",
       "2179511                                         altogether             1  \n",
       "2179512  using principle complicity solicitation statut...             1  \n",
       "2179513                       thank counsel case submitted             1  \n",
       "\n",
       "[2178309 rows x 4 columns]"
      ]
     },
     "execution_count": 72,
     "metadata": {},
     "output_type": "execute_result"
    }
   ],
   "source": [
    "utt_df_cpy.drop(columns=['speaker', 'reply_to', 'conversation_id',\n",
    "                         'meta.start_times', 'meta.stop_times', \n",
    "                         'meta.speaker_type', 'meta.side', \n",
    "                         'meta.timestamp', 'vectors', 'timestamp', \n",
    "                         'meta.votes_side'])"
   ]
  },
  {
   "cell_type": "code",
   "execution_count": 73,
   "id": "9d38f0fd",
   "metadata": {},
   "outputs": [
    {
     "data": {
      "text/html": [
       "<div>\n",
       "<style scoped>\n",
       "    .dataframe tbody tr th:only-of-type {\n",
       "        vertical-align: middle;\n",
       "    }\n",
       "\n",
       "    .dataframe tbody tr th {\n",
       "        vertical-align: top;\n",
       "    }\n",
       "\n",
       "    .dataframe thead th {\n",
       "        text-align: right;\n",
       "    }\n",
       "</style>\n",
       "<table border=\"1\" class=\"dataframe\">\n",
       "  <thead>\n",
       "    <tr style=\"text-align: right;\">\n",
       "      <th></th>\n",
       "      <th>meta.case_id</th>\n",
       "      <th>meta.win_side</th>\n",
       "      <th>meta.cleaned</th>\n",
       "    </tr>\n",
       "  </thead>\n",
       "  <tbody>\n",
       "    <tr>\n",
       "      <th>0</th>\n",
       "      <td>1955_10</td>\n",
       "      <td>0</td>\n",
       "      <td>number &lt;number&gt; commonwealth pennsylvania vers...</td>\n",
       "    </tr>\n",
       "    <tr>\n",
       "      <th>1</th>\n",
       "      <td>1955_102</td>\n",
       "      <td>0</td>\n",
       "      <td>minute remaining simply desire point brief dec...</td>\n",
       "    </tr>\n",
       "    <tr>\n",
       "      <th>2</th>\n",
       "      <td>1955_110</td>\n",
       "      <td>1</td>\n",
       "      <td>court dennis case one cited brief reading beca...</td>\n",
       "    </tr>\n",
       "    <tr>\n",
       "      <th>3</th>\n",
       "      <td>1955_111</td>\n",
       "      <td>1</td>\n",
       "      <td>number &lt;number&gt; gonzales versus hr landon dist...</td>\n",
       "    </tr>\n",
       "    <tr>\n",
       "      <th>4</th>\n",
       "      <td>1955_112</td>\n",
       "      <td>1</td>\n",
       "      <td>number &lt;number&gt; amos reece versus state georgi...</td>\n",
       "    </tr>\n",
       "    <tr>\n",
       "      <th>...</th>\n",
       "      <td>...</td>\n",
       "      <td>...</td>\n",
       "      <td>...</td>\n",
       "    </tr>\n",
       "    <tr>\n",
       "      <th>6711</th>\n",
       "      <td>2019_19-631</td>\n",
       "      <td>0</td>\n",
       "      <td>well hear argument next case &lt;number&gt; william ...</td>\n",
       "    </tr>\n",
       "    <tr>\n",
       "      <th>6712</th>\n",
       "      <td>2019_19-635</td>\n",
       "      <td>0</td>\n",
       "      <td>well hear argument next case &lt;number&gt; donald t...</td>\n",
       "    </tr>\n",
       "    <tr>\n",
       "      <th>6713</th>\n",
       "      <td>2019_19-67</td>\n",
       "      <td>1</td>\n",
       "      <td>well hear argument morning case &lt;number&gt; unite...</td>\n",
       "    </tr>\n",
       "    <tr>\n",
       "      <th>6714</th>\n",
       "      <td>2019_19-7</td>\n",
       "      <td>1</td>\n",
       "      <td>well hear argument first morning case &lt;number&gt;...</td>\n",
       "    </tr>\n",
       "    <tr>\n",
       "      <th>6715</th>\n",
       "      <td>2019_19-715</td>\n",
       "      <td>1</td>\n",
       "      <td>first case argue today case &lt;number&gt; donald tr...</td>\n",
       "    </tr>\n",
       "  </tbody>\n",
       "</table>\n",
       "<p>6716 rows × 3 columns</p>\n",
       "</div>"
      ],
      "text/plain": [
       "     meta.case_id  meta.win_side  \\\n",
       "0         1955_10              0   \n",
       "1        1955_102              0   \n",
       "2        1955_110              1   \n",
       "3        1955_111              1   \n",
       "4        1955_112              1   \n",
       "...           ...            ...   \n",
       "6711  2019_19-631              0   \n",
       "6712  2019_19-635              0   \n",
       "6713   2019_19-67              1   \n",
       "6714    2019_19-7              1   \n",
       "6715  2019_19-715              1   \n",
       "\n",
       "                                           meta.cleaned  \n",
       "0     number <number> commonwealth pennsylvania vers...  \n",
       "1     minute remaining simply desire point brief dec...  \n",
       "2     court dennis case one cited brief reading beca...  \n",
       "3     number <number> gonzales versus hr landon dist...  \n",
       "4     number <number> amos reece versus state georgi...  \n",
       "...                                                 ...  \n",
       "6711  well hear argument next case <number> william ...  \n",
       "6712  well hear argument next case <number> donald t...  \n",
       "6713  well hear argument morning case <number> unite...  \n",
       "6714  well hear argument first morning case <number>...  \n",
       "6715  first case argue today case <number> donald tr...  \n",
       "\n",
       "[6716 rows x 3 columns]"
      ]
     },
     "execution_count": 73,
     "metadata": {},
     "output_type": "execute_result"
    }
   ],
   "source": [
    "utt_df_cpy.groupby(['meta.case_id', 'meta.win_side'])['meta.cleaned'].apply(\" \".join).reset_index()"
   ]
  }
 ],
 "metadata": {
  "kernelspec": {
   "display_name": "scotus",
   "language": "python",
   "name": "scotus"
  },
  "language_info": {
   "codemirror_mode": {
    "name": "ipython",
    "version": 3
   },
   "file_extension": ".py",
   "mimetype": "text/x-python",
   "name": "python",
   "nbconvert_exporter": "python",
   "pygments_lexer": "ipython3",
   "version": "3.9.12"
  }
 },
 "nbformat": 4,
 "nbformat_minor": 5
}
