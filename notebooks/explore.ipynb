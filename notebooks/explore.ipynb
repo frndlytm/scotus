{
 "cells": [
  {
   "cell_type": "code",
   "execution_count": 30,
   "metadata": {},
   "outputs": [
    {
     "data": {
      "text/plain": [
       "(tensor([[0.4862, 0.1813, 0.8873, 0.8159, 0.2518],\n",
       "         [0.4877, 0.1386, 0.7595, 0.7164, 0.9861]]),\n",
       " tensor([[[1., 0.],\n",
       "          [1., 2.]]]))"
      ]
     },
     "execution_count": 30,
     "metadata": {},
     "output_type": "execute_result"
    }
   ],
   "source": [
    "import torch\n",
    "import torch.nn.functional as F\n",
    "from torch import nn\n",
    "\n",
    "in_ = torch.rand(2, 5)\n",
    "weights = torch.tensor(\n",
    "    [[\n",
    "        [1, 0],\n",
    "        [1, 2],\n",
    "    ]], dtype=torch.float32\n",
    ")\n",
    "in_, weights"
   ]
  },
  {
   "cell_type": "code",
   "execution_count": 48,
   "metadata": {},
   "outputs": [
    {
     "data": {
      "text/plain": [
       "tensor([[0.3337, 0.5343, 0.8516, 0.5338],\n",
       "        [0.3132, 0.4491, 0.7380, 0.8513]])"
      ]
     },
     "execution_count": 48,
     "metadata": {},
     "output_type": "execute_result"
    }
   ],
   "source": [
    "nn.AvgPool1d(2, stride=1)(in_)\n"
   ]
  },
  {
   "cell_type": "code",
   "execution_count": 40,
   "metadata": {},
   "outputs": [
    {
     "ename": "NameError",
     "evalue": "name 'out_' is not defined",
     "output_type": "error",
     "traceback": [
      "\u001b[1;31m---------------------------------------------------------------------------\u001b[0m",
      "\u001b[1;31mNameError\u001b[0m                                 Traceback (most recent call last)",
      "\u001b[1;32mg:\\My Drive\\dimare.c@northeastern.edu\\courses\\2022\\Spring\\CS 6120 - Natural Language Processing\\project\\scotus\\notebooks\\explore.ipynb Cell 3'\u001b[0m in \u001b[0;36m<cell line: 1>\u001b[1;34m()\u001b[0m\n\u001b[1;32m----> <a href='vscode-notebook-cell:/g%3A/My%20Drive/dimare.c%40northeastern.edu/courses/2022/Spring/CS%206120%20-%20Natural%20Language%20Processing/project/scotus/notebooks/explore.ipynb#ch0000002?line=0'>1</a>\u001b[0m out_\n",
      "\u001b[1;31mNameError\u001b[0m: name 'out_' is not defined"
     ]
    }
   ],
   "source": [
    "out_"
   ]
  },
  {
   "cell_type": "code",
   "execution_count": null,
   "metadata": {},
   "outputs": [],
   "source": []
  }
 ],
 "metadata": {
  "interpreter": {
   "hash": "c201706b559ea784fb9641e8d261466e147a09d54b23934fb2fe577f4eb6635c"
  },
  "kernelspec": {
   "display_name": "Python 3.10.2 ('scotus')",
   "language": "python",
   "name": "python3"
  },
  "language_info": {
   "codemirror_mode": {
    "name": "ipython",
    "version": 3
   },
   "file_extension": ".py",
   "mimetype": "text/x-python",
   "name": "python",
   "nbconvert_exporter": "python",
   "pygments_lexer": "ipython3",
   "version": "3.10.1"
  },
  "orig_nbformat": 4
 },
 "nbformat": 4,
 "nbformat_minor": 2
}
